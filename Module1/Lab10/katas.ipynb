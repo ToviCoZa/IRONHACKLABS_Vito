{
 "cells": [
  {
   "cell_type": "code",
   "execution_count": null,
   "metadata": {},
   "outputs": [],
   "source": [
    "def count_sheeps(sheep):\n",
    "    count = 0\n",
    "    for i in sheep :\n",
    "        if i == True : count += 1\n",
    "    return count"
   ]
  },
  {
   "cell_type": "code",
   "execution_count": null,
   "metadata": {},
   "outputs": [],
   "source": [
    "def remove_every_other(my_list):\n",
    "    # Your code here!\n",
    "    count = 0\n",
    "    my_list2 = []\n",
    "    for i in my_list :\n",
    "        if count % 2 == 0 : my_list2.append(i)\n",
    "        count += 1\n",
    "    return my_list2"
   ]
  },
  {
   "cell_type": "code",
   "execution_count": null,
   "metadata": {},
   "outputs": [],
   "source": [
    "def digitize(n):\n",
    "    my_array = []\n",
    "    count = 0\n",
    "    my_str = str(n)\n",
    "    my_str = my_str[::-1]\n",
    "    for i in my_str :\n",
    "        my_array.append(int(i))\n",
    "        \n",
    "    print(my_array)\n",
    "    return my_array"
   ]
  },
  {
   "cell_type": "code",
   "execution_count": null,
   "metadata": {},
   "outputs": [],
   "source": [
    "def square_digits(num):\n",
    "    my_str = str(num)\n",
    "    my_result = str()\n",
    "    for i in my_str :\n",
    "        my_result = my_result + str((int(i)*int(i)))\n",
    "    return int(my_result)"
   ]
  },
  {
   "cell_type": "code",
   "execution_count": null,
   "metadata": {},
   "outputs": [],
   "source": [
    "class List(object):\n",
    "    def count_spec_digits(self, integers_list, digits_list):\n",
    "        digits_count = [0,0,0,0,0,0,0,0,0,0]\n",
    "        mytuple = ()\n",
    "        mylist = []\n",
    "        for n in integers_list:\n",
    "            n_str = str(n)\n",
    "            for c in n_str:\n",
    "                if c.isdigit() :\n",
    "                    digits_count[int(c)] += 1\n",
    "        for d in digits_list:\n",
    "            mytuple =(d, digits_count[d])\n",
    "            mylist.append(mytuple)\n",
    "            \n",
    "        return mylist"
   ]
  }
 ],
 "metadata": {
  "language_info": {
   "name": "python"
  },
  "orig_nbformat": 4
 },
 "nbformat": 4,
 "nbformat_minor": 2
}
