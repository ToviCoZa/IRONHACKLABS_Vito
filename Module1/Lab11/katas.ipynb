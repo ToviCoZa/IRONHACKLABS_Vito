{
 "cells": [
  {
   "cell_type": "code",
   "execution_count": 1,
   "metadata": {},
   "outputs": [],
   "source": [
    "class List:\n",
    "    def remove_(self, integer_list, values_list):\n",
    "        #your code here\n",
    "        outlist = []\n",
    "        for i in integer_list :\n",
    "            if i not in values_list:\n",
    "                outlist.append(i)\n",
    "        return outlist"
   ]
  },
  {
   "cell_type": "code",
   "execution_count": null,
   "metadata": {},
   "outputs": [],
   "source": [
    "class List(object):\n",
    "    def count_spec_digits(self, integers_list, digits_list):\n",
    "        digits_count = [0,0,0,0,0,0,0,0,0,0]\n",
    "        mytuple = ()\n",
    "        mylist = []\n",
    "        for n in integers_list:\n",
    "            n_str = str(n)\n",
    "            for c in n_str:\n",
    "                if c.isdigit() :\n",
    "                    digits_count[int(c)] += 1\n",
    "        for d in digits_list:\n",
    "            mytuple =(d, digits_count[d])\n",
    "            mylist.append(mytuple)\n",
    "            \n",
    "        return mylist"
   ]
  },
  {
   "cell_type": "code",
   "execution_count": null,
   "metadata": {},
   "outputs": [],
   "source": [
    "def ordered_count(inp):\n",
    "    inp_ordered = []\n",
    "    for i in inp:\n",
    "        if not i in inp_ordered:\n",
    "            inp_ordered.append(i)\n",
    "    return [(d, inp.count(d)) for d in inp_ordered]"
   ]
  }
 ],
 "metadata": {
  "interpreter": {
   "hash": "d2e2cc8dc7e9c0aaa9719b3124a066c3e380b690c40b62b8bff02de87ea610cc"
  },
  "kernelspec": {
   "display_name": "Python 3.9.10 64-bit (windows store)",
   "language": "python",
   "name": "python3"
  },
  "language_info": {
   "codemirror_mode": {
    "name": "ipython",
    "version": 3
   },
   "file_extension": ".py",
   "mimetype": "text/x-python",
   "name": "python",
   "nbconvert_exporter": "python",
   "pygments_lexer": "ipython3",
   "version": "3.9.10"
  },
  "orig_nbformat": 4
 },
 "nbformat": 4,
 "nbformat_minor": 2
}
