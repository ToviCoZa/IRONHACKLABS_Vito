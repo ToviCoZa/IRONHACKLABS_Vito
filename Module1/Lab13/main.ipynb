{
 "cells": [
  {
   "cell_type": "code",
   "execution_count": 70,
   "metadata": {},
   "outputs": [],
   "source": [
    "import requests\n",
    "import pandas as pd\n",
    "import json\n",
    "import re\n",
    "import base64\n",
    "\n",
    "# nested_columns = ['actor', 'org', 'payload', 'repo']\n",
    "\n",
    "# def flatten(data, col_list):\n",
    "#     for column in col_list:\n",
    "#         flattened = pd.DataFrame(dict(data[column])).transpose()\n",
    "#         columns = [str(col) for col in flattened.columns]\n",
    "#         flattened.columns = [column + '_' + colname for colname in columns]\n",
    "#         data = pd.concat([data, flattened], axis=1)\n",
    "#         data = data.drop(column, axis=1)\n",
    "#     return data\n",
    "# flat = flatten(data, nested_columns)\n",
    "# flattened_data = pd.json_normalize(results)\n",
    " \n",
    "# flattened_data\n",
    "# flat.head(10)# data = pd.DataFrame(results)\n",
    "# data.head(10)"
   ]
  },
  {
   "cell_type": "code",
   "execution_count": 71,
   "metadata": {},
   "outputs": [
    {
     "name": "stdout",
     "output_type": "stream",
     "text": [
      "{'Connection': 'keep-alive', 'Content-Length': '3021', 'Server': 'nginx', 'Content-Type': 'text/html; charset=UTF-8', 'Last-Modified': 'Mon, 28 Feb 2022 05:00:04 GMT', 'ETag': 'W/\"621c56d4-1ddd\"', 'Expires': 'Mon, 28 Feb 2022 05:05:43 GMT', 'Cache-Control': 'max-age=300', 'Content-Encoding': 'gzip', 'Via': '1.1 varnish, 1.1 varnish', 'Accept-Ranges': 'bytes', 'Date': 'Mon, 28 Feb 2022 16:28:00 GMT', 'Age': '59', 'X-Served-By': 'cache-dfw18680-DFW, cache-cdg20755-CDG', 'X-Cache': 'HIT, HIT', 'X-Cache-Hits': '1, 1', 'X-Timer': 'S1646065681.651707,VS0,VE1', 'Vary': 'Accept-Encoding'}\n",
      "Expiration date is : Mon, 28 Feb 2022 05:05:43 GMT\n",
      "b'<!DOCTYPE html>\\n<html>\\n<head>\\n<link rel=\"stylesheet\" type=\"text/css\" href=\"/s/7d94e0.css\" title=\"Default\"/>\\n<title>xkcd: Greek Letters</title>\\n<meta http-equiv=\"X-UA-Compatible\" content=\"IE=edge\"/>\\n<link rel=\"shortcut icon\" href=\"/s/919f27.ico\" type=\"image/x-icon\"/>\\n<link rel=\"icon\" href=\"/s/919f27.ico\" type=\"image/x-icon\"/>\\n<link rel=\"alternate\" type=\"application/atom+xml\" title=\"Atom 1.0\" href=\"/atom.xml\"/>\\n<link rel=\"alternate\" type=\"application/rss+xml\" title=\"RSS 2.0\" href=\"/rss.xml\"/>\\n<script type=\"text/javascript\" src=\"/s/b66ed7.js\" async></script>\\n<script type=\"text/javascript\" src=\"/s/1b9456.js\" async></script>\\n\\n<meta property=\"og:site_name\" content=\"xkcd\">\\n\\n<meta property=\"og:title\" content=\"Greek Letters\">\\n<meta property=\"og:url\" content=\"https://xkcd.com/2586/\">\\n<meta property=\"og:image\" content=\"https://imgs.xkcd.com/comics/greek_letters_2x.png\">\\n<meta name=\"twitter:card\" content=\"summary_large_image\">\\n\\n</head>\\n<body>\\n<div id=\"topContainer\">\\n<div id=\"topLeft\">\\n<ul>\\n<li><a href=\"/archive\">Archive</a></li>\\n<li><a href=\"https://what-if.xkcd.com\">What If?</a></li>\\n<li><a href=\"https://blag.xkcd.com\">Blag</a></li>\\n<li><a rel=\"author\" href=\"/about\">About</a></li>\\n<li><a href=\"/atom.xml\">Feed</a>&bull;<a href=\"/newsletter/\">Email</a></li>\\n<li><a href=\"https://twitter.com/xkcd/\">TW</a>&bull;<a href=\"https://www.facebook.com/TheXKCD/\">FB</a>&bull;<a href=\"https://www.instagram.com/xkcd/\">IG</a></li>\\n<li><a href=\"/books/\">-Books-</a></li>\\n<li><a href=\"/what-if-2/\">What If? 2</a></li>\\n<li><a href=\"/what-if/\">WI?</a>&bull;<a href=\"/thing-explainer/\">TE</a>&bull;<a href=\"/how-to/\">HT</a></li>\\n</ul>\\n</div>\\n<div id=\"topRight\">\\n<div id=\"masthead\">\\n<span><a href=\"/\"><img src=\"/s/0b7742.png\" alt=\"xkcd.com logo\" height=\"83\" width=\"185\"/></a></span>\\n<span id=\"slogan\">A webcomic of romance,<br/> sarcasm, math, and language.</span>\\n</div>\\n<div id=\"news\">\\n<div id=\"countdown\" style=\"float: right; margin-right: 25px; width: 160px; height: 100px; position: relative;\"><a style=\"display: flex;\" href=\"https://xkcd.com/what-if-2/\"><img alt=\"\" style=\"width: 160px; height: 100px;\" src=\"https://xkcd.com/s/5bef6b.png\"><span style=\"position: absolute; left: 50%; top: 50%; transform: translate(-50%, -50%); padding: 0px 8px; color: black; font-family: xkcd-Regular-v3; font-size: 20px; font-variant: small-caps; letter-spacing: 1px; white-space: nowrap; background: white none repeat scroll 0% 0%; border-radius: 99px; display: none;\"></span></a></div>\\n<em>What If? 2: Additional Serious Scientific Answers to Absurd Hypothetical Questions</em> comes out 9/13. Preorder <a href=\"https://xkcd.com/what-if-2\">here!</a>\\n\\n</div>\\n</div>\\n<div id=\"bgLeft\" class=\"bg box\"></div>\\n<div id=\"bgRight\" class=\"bg box\"></div>\\n</div>\\n<div id=\"middleContainer\" class=\"box\">\\n\\n<div id=\"ctitle\">Greek Letters</div>\\n<ul class=\"comicNav\">\\n<li><a href=\"/1/\">|&lt;</a></li>\\n<li><a rel=\"prev\" href=\"/2585/\" accesskey=\"p\">&lt; Prev</a></li>\\n<li><a href=\"//c.xkcd.com/random/comic/\">Random</a></li>\\n<li><a rel=\"next\" href=\"#\" accesskey=\"n\">Next &gt;</a></li>\\n<li><a href=\"/\">&gt;|</a></li>\\n</ul>\\n<div id=\"comic\">\\n<img src=\"//imgs.xkcd.com/comics/greek_letters.png\" title=\"If you ever see someone using a capital xi in an equation, just observe them quietly to learn as much as you can before they return to their home planet.\" alt=\"Greek Letters\" srcset=\"//imgs.xkcd.com/comics/greek_letters_2x.png 2x\" style=\"image-orientation:none\" />\\n</div>\\n<ul class=\"comicNav\">\\n<li><a href=\"/1/\">|&lt;</a></li>\\n<li><a rel=\"prev\" href=\"/2585/\" accesskey=\"p\">&lt; Prev</a></li>\\n<li><a href=\"//c.xkcd.com/random/comic/\">Random</a></li>\\n<li><a rel=\"next\" href=\"#\" accesskey=\"n\">Next &gt;</a></li>\\n<li><a href=\"/\">&gt;|</a></li>\\n</ul>\\n<br />\\nPermanent link to this comic: <a href=\"https://xkcd.com/2586\">https://xkcd.com/2586/</a><br />\\nImage URL (for hotlinking/embedding): <a href= \"https://imgs.xkcd.com/comics/greek_letters.png\">https://imgs.xkcd.com/comics/greek_letters.png</a>\\n\\n<div id=\"transcript\" style=\"display: none\"></div>\\n</div>\\n<div id=\"bottom\" class=\"box\">\\n<img src=\"//imgs.xkcd.com/s/a899e84.jpg\" width=\"520\" height=\"100\" alt=\"Selected Comics\" usemap=\"#comicmap\"/>\\n<map id=\"comicmap\" name=\"comicmap\">\\n<area shape=\"rect\" coords=\"0,0,100,100\" href=\"/150/\" alt=\"Grownups\"/>\\n<area shape=\"rect\" coords=\"104,0,204,100\" href=\"/730/\" alt=\"Circuit Diagram\"/>\\n<area shape=\"rect\" coords=\"208,0,308,100\" href=\"/162/\" alt=\"Angular Momentum\"/>\\n<area shape=\"rect\" coords=\"312,0,412,100\" href=\"/688/\" alt=\"Self-Description\"/>\\n<area shape=\"rect\" coords=\"416,0,520,100\" href=\"/556/\" alt=\"Alternative Energy Revolution\"/>\\n</map>\\n<br />\\n<a href=\"//xkcd.com/1732/\"><img border=0 src=\"//imgs.xkcd.com/s/temperature.png\" width=\"520\" height=\"100\" alt=\"Earth temperature timeline\"></a>\\n<br />\\n<div>\\n<!--\\nSearch comic titles and transcripts:\\n<script type=\"text/javascript\" src=\"//www.google.com/jsapi\"></script>\\n<script type=\"text/javascript\">google.load(\\'search\\', \\'1\\');google.setOnLoadCallback(function() {google.search.CustomSearchControl.attachAutoCompletion(\\'012652707207066138651:zudjtuwe28q\\',document.getElementById(\\'q\\'),\\'cse-search-box\\');});</script>\\n<form action=\"//www.google.com/cse\" id=\"cse-search-box\">\\n<div>\\n<input type=\"hidden\" name=\"cx\" value=\"012652707207066138651:zudjtuwe28q\"/>\\n<input type=\"hidden\" name=\"ie\" value=\"UTF-8\"/>\\n<input type=\"text\" name=\"q\" id=\"q\" size=\"31\"/>\\n<input type=\"submit\" name=\"sa\" value=\"Search\"/>\\n</div>\\n</form>\\n<script type=\"text/javascript\" src=\"//www.google.com/cse/brand?form=cse-search-box&amp;lang=en\"></script>\\n-->\\n<a href=\"/rss.xml\">RSS Feed</a> - <a href=\"/atom.xml\">Atom Feed</a> - <a href=\"/newsletter/\">Email</a>\\n</div>\\n<br />\\n<div id=\"comicLinks\">\\nComics I enjoy:<br/>\\n        <a href=\"http://threewordphrase.com/\">Three Word Phrase</a>,\\n        <a href=\"https://www.smbc-comics.com/\">SMBC</a>,\\n        <a href=\"https://www.qwantz.com\">Dinosaur Comics</a>,\\n        <a href=\"https://oglaf.com/\">Oglaf</a> (nsfw),\\n        <a href=\"https://www.asofterworld.com\">A Softer World</a>,\\n        <a href=\"https://buttersafe.com/\">Buttersafe</a>,\\n        <a href=\"https://pbfcomics.com/\">Perry Bible Fellowship</a>,\\n        <a href=\"https://questionablecontent.net/\">Questionable Content</a>,\\n        <a href=\"http://www.buttercupfestival.com/\">Buttercup Festival</a>,\\n        <a href=\"https://www.mspaintadventures.com/\">Homestuck</a>,\\n\\t<a href=\"https://www.jspowerhour.com/\">Junior Scientist Power Hour</a>\\n</div>\\n<br />\\n<div id=\"comicLinks\">\\nOther things:<br/>\\n        <a href=\"https://medium.com/civic-tech-thoughts-from-joshdata/so-you-want-to-reform-democracy-7f3b1ef10597\">Tips on technology and government</a>,<br /> \\n        <a href=\"https://www.nytimes.com/interactive/2017/climate/what-is-climate-change.html\">Climate FAQ</a>,\\n\\t<a href=\"https://twitter.com/KHayhoe\">Katharine Hayhoe</a>\\n</div>\\n<br />\\n<center>\\n<div id=\"footnote\" style=\"width:70%\">xkcd.com is best viewed with Netscape Navigator 4.0 or below on a Pentium 3&plusmn;1 emulated in Javascript on an Apple IIGS<br />at a screen resolution of 1024x1. Please enable your ad blockers, disable high-heat drying, and remove your device<br />from Airplane Mode and set it to Boat Mode. For security reasons, please leave caps lock on while browsing.</div>\\n</center>\\n<div id=\"licenseText\">\\n<p>\\nThis work is licensed under a\\n<a href=\"https://creativecommons.org/licenses/by-nc/2.5/\">Creative Commons Attribution-NonCommercial 2.5 License</a>.\\n</p><p>\\nThis means you\\'re free to copy and share these comics (but not to sell them). <a rel=\"license\" href=\"/license.html\">More details</a>.</p>\\n</div>\\n</div>\\n</body>\\n<!-- Layout by Ian Clasbey, davean, and chromakode -->\\n</html>\\n\\n'\n"
     ]
    },
    {
     "data": {
      "text/plain": [
       "27220"
      ]
     },
     "execution_count": 71,
     "metadata": {},
     "output_type": "execute_result"
    }
   ],
   "source": [
    "#Challenge 1\n",
    "response = requests.get('https://xkcd.com/')\n",
    "header_results = response.headers\n",
    "response = requests.get('https://xkcd.com/')\n",
    "header_results = response.headers\n",
    "html_results = response.content\n",
    "print(header_results)\n",
    "print(\"Expiration date is : \" + str(header_results.get('Expires')))\n",
    "print(html_results)\n",
    "\n",
    "url = 'https://imgs.xkcd.com/comics/sky.png'\n",
    "r = requests.get(url, allow_redirects=True)\n",
    "open('sky.png', 'wb').write(r.content)\n"
   ]
  },
  {
   "cell_type": "code",
   "execution_count": 72,
   "metadata": {},
   "outputs": [
    {
     "name": "stdout",
     "output_type": "stream",
     "text": [
      "{'args': {'things': '2', 'total': '25'}, 'headers': {'Accept': '*/*', 'Accept-Encoding': 'gzip, deflate', 'Host': 'httpbin.org', 'User-Agent': 'python-requests/2.27.1', 'X-Amzn-Trace-Id': 'Root=1-621cf811-03ab61751a966f762eedf35c'}, 'origin': '80.215.198.139', 'url': 'https://httpbin.org/get?things=2&total=25', 'username': 'Vito', 'password': 'azerty'}\n",
      "{'username': 'Vito', 'password': 'azerty'}\n"
     ]
    }
   ],
   "source": [
    "#Challenge 2\n",
    "\n",
    "response = requests.get('https://httpbin.org/get', {'things': 2, 'total': 25})\n",
    "results = response.json()\n",
    "results.update({'username':'Vito','password':'azerty'})\n",
    "print(results)\n",
    "credentials = dict()\n",
    "credentials.update({'username' :results.get('username'), 'password':results.get('password')})\n",
    "print(credentials)\n",
    "\n",
    "# def flatten(data, col_list):\n",
    "#     for column in col_list:\n",
    "#         flattened = pd.DataFrame(dict(data[column])).transpose()\n",
    "#         columns = [str(col) for col in flattened.columns]\n",
    "#         flattened.columns = [column + '_' + colname for colname in columns]\n",
    "#         data = pd.concat([data, flattened], axis=1)\n",
    "#         data = data.drop(column, axis=1)\n",
    "#     return data\n",
    "# flat = flatten(data, nested_columns)\n",
    "# flattened_data = pd.json_normalize(results)"
   ]
  },
  {
   "cell_type": "code",
   "execution_count": 73,
   "metadata": {},
   "outputs": [
    {
     "name": "stdout",
     "output_type": "stream",
     "text": [
      "<Response [403]>\n",
      "<Response [403]>\n",
      "<Response [403]>\n",
      "<Response [403]>\n",
      "<Response [403]>\n",
      "<Response [403]>\n",
      "<Response [403]>\n",
      "<Response [403]>\n",
      "<Response [403]>\n",
      "<Response [403]>\n",
      "<Response [403]>\n",
      "<Response [403]>\n",
      "<Response [403]>\n",
      "<Response [403]>\n",
      "<Response [403]>\n",
      "<Response [403]>\n",
      "<Response [403]>\n",
      "<Response [403]>\n",
      "<Response [403]>\n",
      "<Response [403]>\n",
      "<Response [403]>\n",
      "<Response [403]>\n",
      "<Response [403]>\n",
      "<Response [403]>\n"
     ]
    },
    {
     "ename": "KeyError",
     "evalue": "'content'",
     "output_type": "error",
     "traceback": [
      "\u001b[1;31m---------------------------------------------------------------------------\u001b[0m",
      "\u001b[1;31mKeyError\u001b[0m                                  Traceback (most recent call last)",
      "\u001b[1;32mc:\\Users\\vitoc\\IronHack\\DAFT_212\\Module_1\\Lab_13_APIs\\main.ipynb Cell 4'\u001b[0m in \u001b[0;36m<module>\u001b[1;34m\u001b[0m\n\u001b[0;32m     <a href='vscode-notebook-cell:/c%3A/Users/vitoc/IronHack/DAFT_212/Module_1/Lab_13_APIs/main.ipynb#ch0000003?line=26'>27</a>\u001b[0m \u001b[39mfor\u001b[39;00m r \u001b[39min\u001b[39;00m array_response:\n\u001b[0;32m     <a href='vscode-notebook-cell:/c%3A/Users/vitoc/IronHack/DAFT_212/Module_1/Lab_13_APIs/main.ipynb#ch0000003?line=27'>28</a>\u001b[0m     x \u001b[39m=\u001b[39m json\u001b[39m.\u001b[39mloads(r\u001b[39m.\u001b[39mtext)\n\u001b[1;32m---> <a href='vscode-notebook-cell:/c%3A/Users/vitoc/IronHack/DAFT_212/Module_1/Lab_13_APIs/main.ipynb#ch0000003?line=28'>29</a>\u001b[0m     secret_text\u001b[39m.\u001b[39mappend(base64\u001b[39m.\u001b[39mb64decode(x[\u001b[39m\"\u001b[39;49m\u001b[39mcontent\u001b[39;49m\u001b[39m\"\u001b[39;49m]\u001b[39m.\u001b[39mencode(\u001b[39m'\u001b[39m\u001b[39mascii\u001b[39m\u001b[39m'\u001b[39m))\u001b[39m.\u001b[39mdecode(\u001b[39m'\u001b[39m\u001b[39mascii\u001b[39m\u001b[39m'\u001b[39m))\n\u001b[0;32m     <a href='vscode-notebook-cell:/c%3A/Users/vitoc/IronHack/DAFT_212/Module_1/Lab_13_APIs/main.ipynb#ch0000003?line=30'>31</a>\u001b[0m \u001b[39mprint\u001b[39m(\u001b[39m\"\u001b[39m\u001b[39m \u001b[39m\u001b[39m\"\u001b[39m\u001b[39m.\u001b[39mjoin(secret_text)\u001b[39m.\u001b[39mreplace(\u001b[39m'\u001b[39m\u001b[39m\\n\u001b[39;00m\u001b[39m'\u001b[39m,\u001b[39m'\u001b[39m\u001b[39m'\u001b[39m))\n",
      "\u001b[1;31mKeyError\u001b[0m: 'content'"
     ]
    }
   ],
   "source": [
    "#Challenge 3\n",
    "\n",
    "response = requests.get('https://api.github.com/search/code?q=.scavengerhunt in:path+repo:ironhack-datalabs/scavenger')\n",
    "search = response.json()\n",
    "search\n",
    "repo_name = []\n",
    "repo_git_url = {}\n",
    "array_response= []\n",
    "secret_text = []\n",
    "\n",
    "\n",
    "for i in search.get('items') :\n",
    "    repo_name.append(i['name'])\n",
    "    repo_git_url.update({i['name'] : i['git_url']})\n",
    "repo_name.sort()\n",
    "\n",
    "\n",
    "\n",
    "for j in repo_name:\n",
    "    print(requests.get(repo_git_url[j]))\n",
    "    array_response.append(requests.get(repo_git_url[j]))\n",
    "    # print(array_response)\n",
    "    \n",
    "\n",
    "\n",
    "for r in array_response:\n",
    "    x = json.loads(r.text)\n",
    "    secret_text.append(base64.b64decode(x[\"content\"].encode('ascii')).decode('ascii'))\n",
    "\n",
    "print(\" \".join(secret_text).replace('\\n',''))\n",
    "\n",
    "\n",
    "\n",
    " \n",
    "\n"
   ]
  }
 ],
 "metadata": {
  "interpreter": {
   "hash": "d2e2cc8dc7e9c0aaa9719b3124a066c3e380b690c40b62b8bff02de87ea610cc"
  },
  "kernelspec": {
   "display_name": "Python 3.9.10 64-bit (windows store)",
   "language": "python",
   "name": "python3"
  },
  "language_info": {
   "codemirror_mode": {
    "name": "ipython",
    "version": 3
   },
   "file_extension": ".py",
   "mimetype": "text/x-python",
   "name": "python",
   "nbconvert_exporter": "python",
   "pygments_lexer": "ipython3",
   "version": "3.9.10"
  },
  "orig_nbformat": 4
 },
 "nbformat": 4,
 "nbformat_minor": 2
}
