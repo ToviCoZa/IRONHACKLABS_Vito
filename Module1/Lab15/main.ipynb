{
 "cells": [
  {
   "cell_type": "markdown",
   "metadata": {},
   "source": [
    "# StackAPI\n",
    "\n",
    "#### Import the necessary libraries here:"
   ]
  },
  {
   "cell_type": "code",
   "execution_count": null,
   "metadata": {},
   "outputs": [],
   "source": [
    "# your code here\n",
    "from stackapi import StackAPI\n"
   ]
  },
  {
   "cell_type": "markdown",
   "metadata": {},
   "source": [
    "#### Question 1: Find the questions and answers of last month."
   ]
  },
  {
   "cell_type": "code",
   "execution_count": null,
   "metadata": {},
   "outputs": [],
   "source": [
    "# your code here\n",
    "site = StackAPI('stackoverflow')\n",
    "questions = site.fetch('questions', fromdate=1643324400, todate=1646002800)\n",
    "answers = site.fetch('answers', fromdate=1643324400, todate=1646002800)\n",
    "print(questions)\n",
    "print(answers)\n",
    "\n",
    "\n",
    "\n"
   ]
  },
  {
   "cell_type": "markdown",
   "metadata": {},
   "source": [
    "#### Question 2: Find the most voted question today with at least a score of 5 and tagged with 'python'. "
   ]
  },
  {
   "cell_type": "code",
   "execution_count": null,
   "metadata": {},
   "outputs": [],
   "source": [
    "# your code here\n",
    "site = StackAPI('stackoverflow')\n",
    "site.page_size = 1\n",
    "site.max_pages = 1\n",
    "questions = site.fetch('questions', fromdate=1645916400, todate=1646002800, min=5, tagged='python' )\n",
    "print(questions)\n",
    "print(answers)"
   ]
  },
  {
   "cell_type": "markdown",
   "metadata": {},
   "source": [
    "#### Question 3: Find the answers with id 6784 and 6473."
   ]
  },
  {
   "cell_type": "code",
   "execution_count": 30,
   "metadata": {},
   "outputs": [
    {
     "name": "stdout",
     "output_type": "stream",
     "text": [
      "{'backoff': 0, 'has_more': False, 'page': 1, 'quota_max': 300, 'quota_remaining': 212, 'total': 0, 'items': [{'owner': {'reputation': 30059, 'user_id': 758, 'user_type': 'registered', 'accept_rate': 77, 'profile_image': 'https://www.gravatar.com/avatar/0b4adc19284ed0751844d610555dc6b2?s=256&d=identicon&r=PG', 'display_name': 'Mark Renouf', 'link': 'https://stackoverflow.com/users/758/mark-renouf'}, 'is_accepted': False, 'score': 0, 'last_activity_date': 1218291583, 'creation_date': 1218291583, 'answer_id': 6784, 'question_id': 6778, 'content_license': 'CC BY-SA 2.5'}]}\n"
     ]
    }
   ],
   "source": [
    "# your code here\n",
    "site = StackAPI('stackoverflow')\n",
    "answers = site.fetch('answers', ids =[6784, 6473])\n",
    "print(answers)\n"
   ]
  }
 ],
 "metadata": {
  "interpreter": {
   "hash": "d2e2cc8dc7e9c0aaa9719b3124a066c3e380b690c40b62b8bff02de87ea610cc"
  },
  "kernelspec": {
   "display_name": "ironhack-3.7",
   "language": "python",
   "name": "python3"
  },
  "language_info": {
   "codemirror_mode": {
    "name": "ipython",
    "version": 3
   },
   "file_extension": ".py",
   "mimetype": "text/x-python",
   "name": "python",
   "nbconvert_exporter": "python",
   "pygments_lexer": "ipython3",
   "version": "3.9.10"
  }
 },
 "nbformat": 4,
 "nbformat_minor": 2
}
