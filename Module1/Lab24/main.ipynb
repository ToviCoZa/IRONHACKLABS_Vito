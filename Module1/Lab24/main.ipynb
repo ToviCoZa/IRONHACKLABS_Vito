{
 "cells": [
  {
   "cell_type": "markdown",
   "metadata": {},
   "source": [
    "# Intrduction to NumPy\n",
    "\n",
    "\n",
    "#### 1. Import NumPy under the name np."
   ]
  },
  {
   "cell_type": "code",
   "execution_count": 296,
   "metadata": {},
   "outputs": [],
   "source": [
    "# your code here\n",
    "import numpy as np"
   ]
  },
  {
   "cell_type": "markdown",
   "metadata": {},
   "source": [
    "#### 2. Print your NumPy version."
   ]
  },
  {
   "cell_type": "code",
   "execution_count": 297,
   "metadata": {},
   "outputs": [
    {
     "name": "stdout",
     "output_type": "stream",
     "text": [
      "1.22.2\n"
     ]
    }
   ],
   "source": [
    "# your code here\n",
    "print(np.__version__)"
   ]
  },
  {
   "cell_type": "markdown",
   "metadata": {},
   "source": [
    "#### 3. Generate a 2x3x5 3-dimensional array with random values. Assign the array to variable *a*.\n",
    "**Challenge**: there are at least three easy ways that use numpy to generate random arrays. How many ways can you find?"
   ]
  },
  {
   "cell_type": "code",
   "execution_count": 298,
   "metadata": {},
   "outputs": [
    {
     "name": "stdout",
     "output_type": "stream",
     "text": [
      "[[[0.0246875  0.45616473 0.50643232 0.82962145 0.72484979]\n",
      "  [0.66642861 0.2122142  0.54133412 0.35047095 0.18806973]\n",
      "  [0.75681211 0.62706167 0.59500774 0.11992578 0.03496117]]\n",
      "\n",
      " [[0.12990695 0.85776264 0.37456959 0.26312471 0.4238787 ]\n",
      "  [0.94847129 0.14746175 0.83178829 0.62907627 0.33028427]\n",
      "  [0.7741879  0.13563409 0.28849253 0.41013443 0.79586644]]]\n"
     ]
    }
   ],
   "source": [
    "# Method 1\n",
    "# a = np.ndarray([[0,1], ['a','b','c'], ['v', 'w', 'x', 'y', 'z']])\n",
    "a = np.random.random((2,3,5))\n",
    "print(a)"
   ]
  },
  {
   "cell_type": "code",
   "execution_count": 299,
   "metadata": {},
   "outputs": [
    {
     "name": "stdout",
     "output_type": "stream",
     "text": [
      "[[[ 0  1  2  3  4]\n",
      "  [ 5  6  7  8  9]\n",
      "  [10 11 12 13 14]]\n",
      "\n",
      " [[15 16 17 18 19]\n",
      "  [20 21 22 23 24]\n",
      "  [25 26 27 28 29]]]\n"
     ]
    }
   ],
   "source": [
    "# Method 2\n",
    "# Method 3\n",
    "a = np.arange(30).reshape(2,3,5)\n",
    "a\n",
    "\n",
    "print(a)"
   ]
  },
  {
   "cell_type": "code",
   "execution_count": 300,
   "metadata": {},
   "outputs": [
    {
     "name": "stdout",
     "output_type": "stream",
     "text": [
      "[[[0.51182162 0.9504637  0.14415961 0.94864945 0.31183145]\n",
      "  [0.42332645 0.82770259 0.40919914 0.54959369 0.02755911]\n",
      "  [0.75351311 0.53814331 0.32973172 0.7884287  0.30319483]]\n",
      "\n",
      " [[0.45349789 0.1340417  0.40311299 0.20345524 0.26231334]\n",
      "  [0.75036467 0.28040876 0.48519097 0.9807372  0.96165719]\n",
      "  [0.72478994 0.54122686 0.2768912  0.16065201 0.96992541]]]\n"
     ]
    }
   ],
   "source": [
    "# Method 3\n",
    "rg = np.random.default_rng(1)\n",
    "a= rg.random((2,3,5))\n",
    "print(a)"
   ]
  },
  {
   "cell_type": "markdown",
   "metadata": {},
   "source": [
    "#### 4. Print *a*.\n"
   ]
  },
  {
   "cell_type": "code",
   "execution_count": 301,
   "metadata": {},
   "outputs": [
    {
     "name": "stdout",
     "output_type": "stream",
     "text": [
      "[[[0.51182162 0.9504637  0.14415961 0.94864945 0.31183145]\n",
      "  [0.42332645 0.82770259 0.40919914 0.54959369 0.02755911]\n",
      "  [0.75351311 0.53814331 0.32973172 0.7884287  0.30319483]]\n",
      "\n",
      " [[0.45349789 0.1340417  0.40311299 0.20345524 0.26231334]\n",
      "  [0.75036467 0.28040876 0.48519097 0.9807372  0.96165719]\n",
      "  [0.72478994 0.54122686 0.2768912  0.16065201 0.96992541]]]\n"
     ]
    }
   ],
   "source": [
    "# your code here\n",
    "print(a)"
   ]
  },
  {
   "cell_type": "markdown",
   "metadata": {},
   "source": [
    "#### 5. Create a 5x2x3 3-dimensional array with all values equaling 1. Assign the array to variable *b*."
   ]
  },
  {
   "cell_type": "code",
   "execution_count": 302,
   "metadata": {},
   "outputs": [],
   "source": [
    "# your code here\n",
    "b = np.ones(shape=(5,2,3), dtype=int)\n"
   ]
  },
  {
   "cell_type": "markdown",
   "metadata": {},
   "source": [
    "#### 6. Print *b*.\n"
   ]
  },
  {
   "cell_type": "code",
   "execution_count": 303,
   "metadata": {},
   "outputs": [
    {
     "name": "stdout",
     "output_type": "stream",
     "text": [
      "[[[1 1 1]\n",
      "  [1 1 1]]\n",
      "\n",
      " [[1 1 1]\n",
      "  [1 1 1]]\n",
      "\n",
      " [[1 1 1]\n",
      "  [1 1 1]]\n",
      "\n",
      " [[1 1 1]\n",
      "  [1 1 1]]\n",
      "\n",
      " [[1 1 1]\n",
      "  [1 1 1]]]\n"
     ]
    }
   ],
   "source": [
    "# your code here\n",
    "print(b)"
   ]
  },
  {
   "cell_type": "markdown",
   "metadata": {},
   "source": [
    "#### 7. Do *a* and *b* have the same size? How do you prove that in Python code?"
   ]
  },
  {
   "cell_type": "code",
   "execution_count": 304,
   "metadata": {},
   "outputs": [
    {
     "name": "stdout",
     "output_type": "stream",
     "text": [
      "30\n",
      "30\n"
     ]
    }
   ],
   "source": [
    "# your code here\n",
    "print(a.size)\n",
    "print(b.size)"
   ]
  },
  {
   "cell_type": "markdown",
   "metadata": {},
   "source": [
    "#### 8. Are you able to add *a* and *b*? Why or why not?\n"
   ]
  },
  {
   "cell_type": "code",
   "execution_count": 305,
   "metadata": {},
   "outputs": [
    {
     "ename": "ValueError",
     "evalue": "operands could not be broadcast together with shapes (2,3,5) (5,2,3) ",
     "output_type": "error",
     "traceback": [
      "\u001b[1;31m---------------------------------------------------------------------------\u001b[0m",
      "\u001b[1;31mValueError\u001b[0m                                Traceback (most recent call last)",
      "\u001b[1;32mc:\\Users\\vitoc\\IronHack\\DAFT_212\\Module_1\\Lab_24_Numpy\\main.ipynb Cell 18'\u001b[0m in \u001b[0;36m<module>\u001b[1;34m\u001b[0m\n\u001b[0;32m      <a href='vscode-notebook-cell:/c%3A/Users/vitoc/IronHack/DAFT_212/Module_1/Lab_24_Numpy/main.ipynb#ch0000017?line=0'>1</a>\u001b[0m \u001b[39m# your answer here\u001b[39;00m\n\u001b[1;32m----> <a href='vscode-notebook-cell:/c%3A/Users/vitoc/IronHack/DAFT_212/Module_1/Lab_24_Numpy/main.ipynb#ch0000017?line=1'>2</a>\u001b[0m z \u001b[39m=\u001b[39m a \u001b[39m+\u001b[39;49m b\n\u001b[0;32m      <a href='vscode-notebook-cell:/c%3A/Users/vitoc/IronHack/DAFT_212/Module_1/Lab_24_Numpy/main.ipynb#ch0000017?line=2'>3</a>\u001b[0m \u001b[39mprint\u001b[39m(z)\n",
      "\u001b[1;31mValueError\u001b[0m: operands could not be broadcast together with shapes (2,3,5) (5,2,3) "
     ]
    }
   ],
   "source": [
    "# your answer here\n",
    "z = a + b\n",
    "print(z)\n",
    "#operands could not be broadcast together with shapes (2,3,5) (5,2,3)\n",
    "#I'm guessing structures (shapes) are not the same"
   ]
  },
  {
   "cell_type": "markdown",
   "metadata": {},
   "source": [
    "#### 9. Transpose *b* so that it has the same structure of *a* (i.e. become a 2x3x5 array). Assign the transposed array to variable *c*."
   ]
  },
  {
   "cell_type": "code",
   "execution_count": null,
   "metadata": {},
   "outputs": [
    {
     "name": "stdout",
     "output_type": "stream",
     "text": [
      "[[[1 1 1 1 1]\n",
      "  [1 1 1 1 1]\n",
      "  [1 1 1 1 1]]\n",
      "\n",
      " [[1 1 1 1 1]\n",
      "  [1 1 1 1 1]\n",
      "  [1 1 1 1 1]]]\n"
     ]
    }
   ],
   "source": [
    "# your code here\n",
    "\n",
    "c = np.transpose(b, axes=(1,2,0))\n",
    "c.shape\n",
    "print(c)"
   ]
  },
  {
   "cell_type": "markdown",
   "metadata": {},
   "source": [
    "#### 10. Try to add *a* and *c*. Now it should work. Assign the sum to variable *d*. But why does it work now?"
   ]
  },
  {
   "cell_type": "code",
   "execution_count": null,
   "metadata": {},
   "outputs": [
    {
     "name": "stdout",
     "output_type": "stream",
     "text": [
      "(2, 3, 5)\n",
      "(5, 2, 3)\n",
      "[[[1.51182162 1.9504637  1.14415961 1.94864945 1.31183145]\n",
      "  [1.42332645 1.82770259 1.40919914 1.54959369 1.02755911]\n",
      "  [1.75351311 1.53814331 1.32973172 1.7884287  1.30319483]]\n",
      "\n",
      " [[1.45349789 1.1340417  1.40311299 1.20345524 1.26231334]\n",
      "  [1.75036467 1.28040876 1.48519097 1.9807372  1.96165719]\n",
      "  [1.72478994 1.54122686 1.2768912  1.16065201 1.96992541]]]\n"
     ]
    }
   ],
   "source": [
    "# your code/answer here\n",
    "print(np.shape(a))\n",
    "print(np.shape(b))\n",
    "d = a + c\n",
    "print(d)\n",
    "\n",
    "# it works because both matrices have the same shape now "
   ]
  },
  {
   "cell_type": "markdown",
   "metadata": {},
   "source": [
    "#### 11. Print *a* and *d*. Notice the difference and relation of the two array in terms of the values? Explain."
   ]
  },
  {
   "cell_type": "code",
   "execution_count": null,
   "metadata": {},
   "outputs": [
    {
     "name": "stdout",
     "output_type": "stream",
     "text": [
      "[[[0.51182162 0.9504637  0.14415961 0.94864945 0.31183145]\n",
      "  [0.42332645 0.82770259 0.40919914 0.54959369 0.02755911]\n",
      "  [0.75351311 0.53814331 0.32973172 0.7884287  0.30319483]]\n",
      "\n",
      " [[0.45349789 0.1340417  0.40311299 0.20345524 0.26231334]\n",
      "  [0.75036467 0.28040876 0.48519097 0.9807372  0.96165719]\n",
      "  [0.72478994 0.54122686 0.2768912  0.16065201 0.96992541]]]\n",
      "[[[1.51182162 1.9504637  1.14415961 1.94864945 1.31183145]\n",
      "  [1.42332645 1.82770259 1.40919914 1.54959369 1.02755911]\n",
      "  [1.75351311 1.53814331 1.32973172 1.7884287  1.30319483]]\n",
      "\n",
      " [[1.45349789 1.1340417  1.40311299 1.20345524 1.26231334]\n",
      "  [1.75036467 1.28040876 1.48519097 1.9807372  1.96165719]\n",
      "  [1.72478994 1.54122686 1.2768912  1.16065201 1.96992541]]]\n"
     ]
    }
   ],
   "source": [
    "# your code/answer here\n",
    "print(a)\n",
    "print(d)"
   ]
  },
  {
   "cell_type": "markdown",
   "metadata": {},
   "source": [
    "#### 12. Multiply *a* and *c*. Assign the result to *e*."
   ]
  },
  {
   "cell_type": "code",
   "execution_count": null,
   "metadata": {},
   "outputs": [
    {
     "data": {
      "text/plain": [
       "array([[[0.51182162, 0.9504637 , 0.14415961, 0.94864945, 0.31183145],\n",
       "        [0.42332645, 0.82770259, 0.40919914, 0.54959369, 0.02755911],\n",
       "        [0.75351311, 0.53814331, 0.32973172, 0.7884287 , 0.30319483]],\n",
       "\n",
       "       [[0.45349789, 0.1340417 , 0.40311299, 0.20345524, 0.26231334],\n",
       "        [0.75036467, 0.28040876, 0.48519097, 0.9807372 , 0.96165719],\n",
       "        [0.72478994, 0.54122686, 0.2768912 , 0.16065201, 0.96992541]]])"
      ]
     },
     "execution_count": 206,
     "metadata": {},
     "output_type": "execute_result"
    }
   ],
   "source": [
    "# your code here\n",
    "e = a * c\n",
    "e"
   ]
  },
  {
   "cell_type": "markdown",
   "metadata": {},
   "source": [
    "#### 13. Does *e* equal to *a*? Why or why not?\n"
   ]
  },
  {
   "cell_type": "code",
   "execution_count": null,
   "metadata": {},
   "outputs": [
    {
     "data": {
      "text/plain": [
       "array([[[0.51182162, 0.9504637 , 0.14415961, 0.94864945, 0.31183145],\n",
       "        [0.42332645, 0.82770259, 0.40919914, 0.54959369, 0.02755911],\n",
       "        [0.75351311, 0.53814331, 0.32973172, 0.7884287 , 0.30319483]],\n",
       "\n",
       "       [[0.45349789, 0.1340417 , 0.40311299, 0.20345524, 0.26231334],\n",
       "        [0.75036467, 0.28040876, 0.48519097, 0.9807372 , 0.96165719],\n",
       "        [0.72478994, 0.54122686, 0.2768912 , 0.16065201, 0.96992541]]])"
      ]
     },
     "execution_count": 194,
     "metadata": {},
     "output_type": "execute_result"
    }
   ],
   "source": [
    "# your code/answer here\n",
    "e\n",
    "a"
   ]
  },
  {
   "cell_type": "markdown",
   "metadata": {},
   "source": [
    "#### 14. Identify the max, min, and mean values in *d*. Assign those values to variables *d_max*, *d_min* and *d_mean*."
   ]
  },
  {
   "cell_type": "code",
   "execution_count": null,
   "metadata": {},
   "outputs": [],
   "source": [
    "# your code here\n",
    "\n",
    "d_max = np.max(d)\n",
    "d_min = np.min(d)\n",
    "d_mean = np.mean(d)"
   ]
  },
  {
   "cell_type": "markdown",
   "metadata": {},
   "source": [
    "#### 15. Now we want to label the values in *d*. First create an empty array *f* with the same shape (i.e. 2x3x5) as *d* using `np.empty`.\n"
   ]
  },
  {
   "cell_type": "code",
   "execution_count": null,
   "metadata": {},
   "outputs": [
    {
     "name": "stdout",
     "output_type": "stream",
     "text": [
      "[[[1400.51182162 1400.9504637  1400.14415961 1400.94864945 1400.31183145]\n",
      "  [1400.42332645 1400.82770259 1400.40919914 1400.54959369 1400.02755911]\n",
      "  [1400.75351311 1400.53814331 1400.32973172 1400.7884287  1400.30319483]]\n",
      "\n",
      " [[1400.45349789 1400.1340417  1400.40311299 1400.20345524 1400.26231334]\n",
      "  [1400.75036467 1400.28040876 1400.48519097 1400.9807372  1400.96165719]\n",
      "  [1400.72478994 1400.54122686 1400.2768912  1400.16065201 1400.96992541]]]\n",
      "(2, 3, 5)\n"
     ]
    }
   ],
   "source": [
    "# your code here\n",
    "f = np.empty((2,3,5))\n",
    "print(f)\n",
    "print(d.shape)"
   ]
  },
  {
   "cell_type": "markdown",
   "metadata": {},
   "source": [
    "#### 16. Populate the values in *f*. \n",
    "\n",
    "For each value in *d*, if it's larger than *d_min* but smaller than *d_mean*, assign 25 to the corresponding value in *f*. If a value in *d* is larger than *d_mean* but smaller than *d_max*, assign 75 to the corresponding value in *f*. If a value equals to *d_mean*, assign 50 to the corresponding value in *f*. Assign 0 to the corresponding value(s) in *f* for *d_min* in *d*. Assign 100 to the corresponding value(s) in *f* for *d_max* in *d*. In the end, f should have only the following values: 0, 25, 50, 75, and 100.\n",
    "\n",
    "**Note**: you don't have to use Numpy in this question."
   ]
  },
  {
   "cell_type": "code",
   "execution_count": null,
   "metadata": {},
   "outputs": [
    {
     "name": "stdout",
     "output_type": "stream",
     "text": [
      "[[[ 25  75  25  75  25]\n",
      "  [ 25  75  25  75   0]\n",
      "  [ 75  75  25  75  25]]\n",
      "\n",
      " [[ 25  25  25  25  25]\n",
      "  [ 75  25  25 100  75]\n",
      "  [ 75  75  25  25  75]]]\n"
     ]
    }
   ],
   "source": [
    "f=[]\n",
    "# your code here\n",
    "for x in np.nditer(d):\n",
    "        if d_min < x < d_mean:\n",
    "                f += [25]\n",
    "        if d_mean < x < d_max:\n",
    "                f += [75]\n",
    "        if x == d_mean:\n",
    "                f += [50]\n",
    "        if x == d_min:\n",
    "                f += [0]\n",
    "        if x == d_max:\n",
    "                f += [100]\n",
    "f = np.reshape(f, d.shape)\n",
    "print(f)"
   ]
  },
  {
   "cell_type": "markdown",
   "metadata": {},
   "source": [
    "#### 17. Print *d* and *f*. Do you have your expected *f*?\n",
    "For instance, if your *d* is:\n",
    "```python\n",
    "[[[1.85836099, 1.67064465, 1.62576044, 1.40243961, 1.88454931],\n",
    "[1.75354326, 1.69403643, 1.36729252, 1.61415071, 1.12104981],\n",
    "[1.72201435, 1.1862918 , 1.87078449, 1.7726778 , 1.88180042]],\n",
    "[[1.44747908, 1.31673383, 1.02000951, 1.52218947, 1.97066381],\n",
    "[1.79129243, 1.74983003, 1.96028037, 1.85166831, 1.65450881],\n",
    "[1.18068344, 1.9587381 , 1.00656599, 1.93402165, 1.73514584]]]\n",
    "```\n",
    "Your *f* should be:\n",
    "```python\n",
    "[[[ 75.,  75.,  75.,  25.,  75.],\n",
    "[ 75.,  75.,  25.,  25.,  25.],\n",
    "[ 75.,  25.,  75.,  75.,  75.]],\n",
    "[[ 25.,  25.,  25.,  25., 100.],\n",
    "[ 75.,  75.,  75.,  75.,  75.],\n",
    "[ 25.,  75.,   0.,  75.,  75.]]]\n",
    "```"
   ]
  },
  {
   "cell_type": "code",
   "execution_count": 306,
   "metadata": {},
   "outputs": [
    {
     "data": {
      "text/plain": [
       "array([[[ 25,  75,  25,  75,  25],\n",
       "        [ 25,  75,  25,  75,   0],\n",
       "        [ 75,  75,  25,  75,  25]],\n",
       "\n",
       "       [[ 25,  25,  25,  25,  25],\n",
       "        [ 75,  25,  25, 100,  75],\n",
       "        [ 75,  75,  25,  25,  75]]])"
      ]
     },
     "execution_count": 306,
     "metadata": {},
     "output_type": "execute_result"
    }
   ],
   "source": [
    "# your code here\n",
    "d\n",
    "f"
   ]
  },
  {
   "cell_type": "markdown",
   "metadata": {},
   "source": [
    "#### 18. Bonus question: instead of using numbers (i.e. 0, 25, 50, 75, and 100), use string values  (\"A\", \"B\", \"C\", \"D\", and \"E\") to label the array elements. For the example above, the expected result is:\n",
    "\n",
    "```python\n",
    "[[[ 'D',  'D',  'D',  'B',  'D'],\n",
    "[ 'D',  'D',  'B',  'B',  'B'],\n",
    "[ 'D',  'B',  'D',  'D',  'D']],\n",
    "[[ 'B',  'B',  'B',  'B',  'E'],\n",
    "[ 'D',  'D',  'D',  'D',  'D'],\n",
    "[ 'B',  'D',   'A',  'D', 'D']]]\n",
    "```\n",
    "**Note**: you don't have to use Numpy in this question."
   ]
  },
  {
   "cell_type": "code",
   "execution_count": 307,
   "metadata": {},
   "outputs": [],
   "source": [
    "# your code here"
   ]
  }
 ],
 "metadata": {
  "kernelspec": {
   "display_name": "Python 3",
   "language": "python",
   "name": "python3"
  },
  "language_info": {
   "codemirror_mode": {
    "name": "ipython",
    "version": 3
   },
   "file_extension": ".py",
   "mimetype": "text/x-python",
   "name": "python",
   "nbconvert_exporter": "python",
   "pygments_lexer": "ipython3",
   "version": "3.7.2"
  }
 },
 "nbformat": 4,
 "nbformat_minor": 2
}
