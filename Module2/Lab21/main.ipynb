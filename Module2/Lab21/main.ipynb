{
 "cells": [
  {
   "cell_type": "markdown",
   "metadata": {},
   "source": [
    "We will be working with publicly available airline passenger time series data. To start, let’s import the Pandas library and read the airline passenger data into a data frame"
   ]
  },
  {
   "cell_type": "code",
   "execution_count": 1,
   "metadata": {},
   "outputs": [],
   "source": [
    "import pandas as pd\n",
    "import matplotlib.pyplot as plt\n",
    "import seaborn as sns\n",
    "import numpy as np\n",
    "import statsmodels.api as sm\n",
    "from statsmodels.tsa.stattools import adfuller\n",
    "from statsmodels.tsa.stattools import acf, pacf\n",
    "from statsmodels.graphics.tsaplots import plot_acf, plot_pacf\n",
    "from statsmodels.stats.stattools import durbin_watson\n",
    "from statsmodels.regression.linear_model import OLS\n",
    "from statsmodels.tsa.seasonal import seasonal_decompose\n",
    "from statsmodels.tsa.arima.model import ARIMA\n",
    "from sklearn.metrics import mean_squared_error\n",
    "\n",
    "\n",
    "data = pd.read_csv('airlines_passengers.csv')"
   ]
  },
  {
   "cell_type": "markdown",
   "metadata": {},
   "source": [
    "Let’s display the first five rows of data"
   ]
  },
  {
   "cell_type": "code",
   "execution_count": 2,
   "metadata": {},
   "outputs": [
    {
     "data": {
      "text/html": [
       "<div>\n",
       "<style scoped>\n",
       "    .dataframe tbody tr th:only-of-type {\n",
       "        vertical-align: middle;\n",
       "    }\n",
       "\n",
       "    .dataframe tbody tr th {\n",
       "        vertical-align: top;\n",
       "    }\n",
       "\n",
       "    .dataframe thead th {\n",
       "        text-align: right;\n",
       "    }\n",
       "</style>\n",
       "<table border=\"1\" class=\"dataframe\">\n",
       "  <thead>\n",
       "    <tr style=\"text-align: right;\">\n",
       "      <th></th>\n",
       "      <th>Month</th>\n",
       "      <th>Passengers</th>\n",
       "    </tr>\n",
       "  </thead>\n",
       "  <tbody>\n",
       "    <tr>\n",
       "      <th>0</th>\n",
       "      <td>1949-01</td>\n",
       "      <td>112</td>\n",
       "    </tr>\n",
       "    <tr>\n",
       "      <th>1</th>\n",
       "      <td>1949-02</td>\n",
       "      <td>118</td>\n",
       "    </tr>\n",
       "    <tr>\n",
       "      <th>2</th>\n",
       "      <td>1949-03</td>\n",
       "      <td>132</td>\n",
       "    </tr>\n",
       "    <tr>\n",
       "      <th>3</th>\n",
       "      <td>1949-04</td>\n",
       "      <td>129</td>\n",
       "    </tr>\n",
       "    <tr>\n",
       "      <th>4</th>\n",
       "      <td>1949-05</td>\n",
       "      <td>121</td>\n",
       "    </tr>\n",
       "  </tbody>\n",
       "</table>\n",
       "</div>"
      ],
      "text/plain": [
       "     Month  Passengers\n",
       "0  1949-01         112\n",
       "1  1949-02         118\n",
       "2  1949-03         132\n",
       "3  1949-04         129\n",
       "4  1949-05         121"
      ]
     },
     "execution_count": 2,
     "metadata": {},
     "output_type": "execute_result"
    }
   ],
   "source": [
    "data.head()"
   ]
  },
  {
   "cell_type": "markdown",
   "metadata": {},
   "source": [
    "We can see that the data contains a column labeled “Month” that contains dates. In that column, \n",
    "the dates are formatted as year–month. We also see that the data starts in the year 1949.\n",
    "The second column is labeled Passengers, and it contains the number of passengers for the year–month. Let’s take a look at the last five records the data "
   ]
  },
  {
   "cell_type": "code",
   "execution_count": 3,
   "metadata": {},
   "outputs": [
    {
     "data": {
      "text/html": [
       "<div>\n",
       "<style scoped>\n",
       "    .dataframe tbody tr th:only-of-type {\n",
       "        vertical-align: middle;\n",
       "    }\n",
       "\n",
       "    .dataframe tbody tr th {\n",
       "        vertical-align: top;\n",
       "    }\n",
       "\n",
       "    .dataframe thead th {\n",
       "        text-align: right;\n",
       "    }\n",
       "</style>\n",
       "<table border=\"1\" class=\"dataframe\">\n",
       "  <thead>\n",
       "    <tr style=\"text-align: right;\">\n",
       "      <th></th>\n",
       "      <th>Month</th>\n",
       "      <th>Passengers</th>\n",
       "    </tr>\n",
       "  </thead>\n",
       "  <tbody>\n",
       "    <tr>\n",
       "      <th>139</th>\n",
       "      <td>1960-08</td>\n",
       "      <td>606</td>\n",
       "    </tr>\n",
       "    <tr>\n",
       "      <th>140</th>\n",
       "      <td>1960-09</td>\n",
       "      <td>508</td>\n",
       "    </tr>\n",
       "    <tr>\n",
       "      <th>141</th>\n",
       "      <td>1960-10</td>\n",
       "      <td>461</td>\n",
       "    </tr>\n",
       "    <tr>\n",
       "      <th>142</th>\n",
       "      <td>1960-11</td>\n",
       "      <td>390</td>\n",
       "    </tr>\n",
       "    <tr>\n",
       "      <th>143</th>\n",
       "      <td>1960-12</td>\n",
       "      <td>432</td>\n",
       "    </tr>\n",
       "  </tbody>\n",
       "</table>\n",
       "</div>"
      ],
      "text/plain": [
       "       Month  Passengers\n",
       "139  1960-08         606\n",
       "140  1960-09         508\n",
       "141  1960-10         461\n",
       "142  1960-11         390\n",
       "143  1960-12         432"
      ]
     },
     "execution_count": 3,
     "metadata": {},
     "output_type": "execute_result"
    }
   ],
   "source": [
    "data.tail()"
   ]
  },
  {
   "cell_type": "markdown",
   "metadata": {},
   "source": [
    "We see that the data ends in 1960. The next thing we will want to do is convert the month column into a datetime object. \n",
    "This will allow it to programmatically pull time values like the year or month for each record.\n",
    "To do this, we use the Pandas to_datetime() method. Note that this process automatically inserts the first day of each month, which is basically a dummy value since we have no daily passenger data."
   ]
  },
  {
   "cell_type": "code",
   "execution_count": 4,
   "metadata": {},
   "outputs": [],
   "source": [
    "data['Month'] = pd.to_datetime(data.Month)"
   ]
  },
  {
   "cell_type": "markdown",
   "metadata": {},
   "source": [
    "The next thing we can do is convert the month column to an index. \n"
   ]
  },
  {
   "cell_type": "code",
   "execution_count": 5,
   "metadata": {},
   "outputs": [
    {
     "data": {
      "text/html": [
       "<div>\n",
       "<style scoped>\n",
       "    .dataframe tbody tr th:only-of-type {\n",
       "        vertical-align: middle;\n",
       "    }\n",
       "\n",
       "    .dataframe tbody tr th {\n",
       "        vertical-align: top;\n",
       "    }\n",
       "\n",
       "    .dataframe thead th {\n",
       "        text-align: right;\n",
       "    }\n",
       "</style>\n",
       "<table border=\"1\" class=\"dataframe\">\n",
       "  <thead>\n",
       "    <tr style=\"text-align: right;\">\n",
       "      <th></th>\n",
       "      <th>Passengers</th>\n",
       "    </tr>\n",
       "    <tr>\n",
       "      <th>Month</th>\n",
       "      <th></th>\n",
       "    </tr>\n",
       "  </thead>\n",
       "  <tbody>\n",
       "    <tr>\n",
       "      <th>1949-01-01</th>\n",
       "      <td>112</td>\n",
       "    </tr>\n",
       "    <tr>\n",
       "      <th>1949-02-01</th>\n",
       "      <td>118</td>\n",
       "    </tr>\n",
       "    <tr>\n",
       "      <th>1949-03-01</th>\n",
       "      <td>132</td>\n",
       "    </tr>\n",
       "    <tr>\n",
       "      <th>1949-04-01</th>\n",
       "      <td>129</td>\n",
       "    </tr>\n",
       "    <tr>\n",
       "      <th>1949-05-01</th>\n",
       "      <td>121</td>\n",
       "    </tr>\n",
       "  </tbody>\n",
       "</table>\n",
       "</div>"
      ],
      "text/plain": [
       "            Passengers\n",
       "Month                 \n",
       "1949-01-01         112\n",
       "1949-02-01         118\n",
       "1949-03-01         132\n",
       "1949-04-01         129\n",
       "1949-05-01         121"
      ]
     },
     "execution_count": 5,
     "metadata": {},
     "output_type": "execute_result"
    }
   ],
   "source": [
    "data.set_index('Month', drop=True, inplace = True)\n",
    "data.head()"
   ]
  },
  {
   "cell_type": "markdown",
   "metadata": {},
   "source": [
    "Let’s generate a time series plot using Seaborn and Matplotlib. This will allow us to visualize the time series data. \n",
    "Import the libraries and generate the lineplot. Label the y-axis with Matplotlib “Number of Passengers”"
   ]
  },
  {
   "cell_type": "code",
   "execution_count": 6,
   "metadata": {},
   "outputs": [
    {
     "data": {
      "text/plain": [
       "Text(0, 0.5, 'Number of Passengers')"
      ]
     },
     "execution_count": 6,
     "metadata": {},
     "output_type": "execute_result"
    },
    {
     "data": {
      "image/png": "[encoded data removed]",
      "text/plain": [
       "<Figure size 432x288 with 1 Axes>"
      ]
     },
     "metadata": {
      "needs_background": "light"
     },
     "output_type": "display_data"
    }
   ],
   "source": [
    "fig = plt.figure()\n",
    "ax = fig.add_subplot(1,1,1)\n",
    "sns.lineplot(x = 'Month', y = 'Passengers', data = data, ax = ax)\n",
    "ax.set_ylabel('Number of Passengers')\n"
   ]
  },
  {
   "cell_type": "markdown",
   "metadata": {},
   "source": [
    "Stationarity is a key part of time series analysis. Import the augmented Dickey-Fuller test from the statsmodels package."
   ]
  },
  {
   "cell_type": "markdown",
   "metadata": {},
   "source": [
    "Let’s pass our data frame into the adfuller method. \n",
    "Here, we specify the autolag parameter as “AIC”, which means that the lag is chosen to minimize the information criterion"
   ]
  },
  {
   "cell_type": "code",
   "execution_count": 7,
   "metadata": {},
   "outputs": [
    {
     "name": "stdout",
     "output_type": "stream",
     "text": [
      "ADF Test Statistic: 0.82\n",
      "5% Critical Value: -2.88\n",
      "p-value: 0.99\n"
     ]
    }
   ],
   "source": [
    "result = adfuller(data.Passengers, autolag='AIC')\n",
    "print('ADF Test Statistic: %.2f' % result[0])\n",
    "print('5%% Critical Value: %.2f' % result[4]['5%'])\n",
    "print('p-value: %.2f' % result[1])"
   ]
  },
  {
   "cell_type": "markdown",
   "metadata": {},
   "source": [
    "Store our results in a dataframe display it"
   ]
  },
  {
   "cell_type": "code",
   "execution_count": 8,
   "metadata": {},
   "outputs": [
    {
     "data": {
      "text/html": [
       "<div>\n",
       "<style scoped>\n",
       "    .dataframe tbody tr th:only-of-type {\n",
       "        vertical-align: middle;\n",
       "    }\n",
       "\n",
       "    .dataframe tbody tr th {\n",
       "        vertical-align: top;\n",
       "    }\n",
       "\n",
       "    .dataframe thead th {\n",
       "        text-align: right;\n",
       "    }\n",
       "</style>\n",
       "<table border=\"1\" class=\"dataframe\">\n",
       "  <thead>\n",
       "    <tr style=\"text-align: right;\">\n",
       "      <th></th>\n",
       "      <th>ADF Test Statistic</th>\n",
       "      <th>5% Critical Value</th>\n",
       "      <th>p-value</th>\n",
       "    </tr>\n",
       "  </thead>\n",
       "  <tbody>\n",
       "    <tr>\n",
       "      <th>Results</th>\n",
       "      <td>0.815369</td>\n",
       "      <td>-2.884042</td>\n",
       "      <td>0.99188</td>\n",
       "    </tr>\n",
       "  </tbody>\n",
       "</table>\n",
       "</div>"
      ],
      "text/plain": [
       "         ADF Test Statistic  5% Critical Value  p-value\n",
       "Results            0.815369          -2.884042  0.99188"
      ]
     },
     "execution_count": 8,
     "metadata": {},
     "output_type": "execute_result"
    }
   ],
   "source": [
    "\n",
    "pd.DataFrame([[result[0], result[4]['5%'], result[1]]], columns = ['ADF Test Statistic', '5% Critical Value', 'p-value'], index = ['Results'])"
   ]
  },
  {
   "cell_type": "markdown",
   "metadata": {},
   "source": [
    "Explain the results"
   ]
  },
  {
   "cell_type": "code",
   "execution_count": 9,
   "metadata": {},
   "outputs": [],
   "source": [
    "# p-value greater than 0.05, we fail to reject the null hypothesis and conclude that the time series is not stationary."
   ]
  },
  {
   "cell_type": "markdown",
   "metadata": {},
   "source": [
    "Autocorrelation\n",
    "Checking for autocorrelation in time series data is another important part of the analytic process. \n",
    "This is a measure of how correlated time series data is at a given point in time with past values, \n",
    "which has huge implications across many industries. For example, if our passenger data has strong autocorrelation, we can assume that high passenger numbers today suggest a strong likelihood that they will be high tomorrow as well.\n",
    "Please calculate and show the autocorrelation"
   ]
  },
  {
   "cell_type": "code",
   "execution_count": 10,
   "metadata": {},
   "outputs": [
    {
     "data": {
      "text/plain": [
       "array([1.        , 0.94804734, 0.87557484, 0.80668116, 0.75262542,\n",
       "       0.71376997, 0.6817336 , 0.66290439, 0.65561048, 0.67094833,\n",
       "       0.70271992, 0.74324019, 0.76039504, 0.71266087, 0.64634228,\n",
       "       0.58592342, 0.53795519, 0.49974753, 0.46873401, 0.44987066,\n",
       "       0.4416288 , 0.45722376, 0.48248203, 0.51712699, 0.53218983,\n",
       "       0.49397569, 0.43772134, 0.3876029 , 0.34802503, 0.31498388,\n",
       "       0.28849682, 0.27080187, 0.26429011, 0.27679934, 0.2985215 ,\n",
       "       0.32558712, 0.3370236 , 0.30333486, 0.25397708, 0.21065534,\n",
       "       0.17217092, 0.13840041, 0.11140324, 0.09098453, 0.08217177,\n",
       "       0.08877222, 0.10386958, 0.12393082, 0.13263456, 0.10374723,\n",
       "       0.06209805])"
      ]
     },
     "execution_count": 10,
     "metadata": {},
     "output_type": "execute_result"
    }
   ],
   "source": [
    "# Calculate ACF and PACF upto 50 lags\n",
    "acf_50 = acf(data.Passengers, nlags=50)\n",
    "acf_50"
   ]
  },
  {
   "cell_type": "markdown",
   "metadata": {},
   "source": [
    "Calculate partial autocorrelation"
   ]
  },
  {
   "cell_type": "code",
   "execution_count": 11,
   "metadata": {},
   "outputs": [
    {
     "name": "stderr",
     "output_type": "stream",
     "text": [
      "C:\\Users\\Vito\\AppData\\Local\\Programs\\Python\\Python310\\lib\\site-packages\\statsmodels\\graphics\\tsaplots.py:348: FutureWarning: The default method 'yw' can produce PACF values outside of the [-1,1] interval. After 0.13, the default will change tounadjusted Yule-Walker ('ywm'). You can use this method now by setting method='ywm'.\n",
      "  warnings.warn(\n"
     ]
    },
    {
     "data": {
      "image/png": "[encoded data removed]",
      "text/plain": [
       "<Figure size 1600x300 with 2 Axes>"
      ]
     },
     "metadata": {
      "needs_background": "light"
     },
     "output_type": "display_data"
    }
   ],
   "source": [
    "# Calculate ACF and PACF upto 50 lags\n",
    "pacf_50 = pacf(data.Passengers, nlags=50)\n",
    "\n",
    "# Draw Plots\n",
    "# Draw Plot\n",
    "fig, axes = plt.subplots(1,2,figsize=(16,3), dpi= 100)\n",
    "plot_acf(data.Passengers.tolist(), lags=50, ax=axes[0])\n",
    "plot_pacf(data.Passengers.tolist(), lags=50, ax=axes[1])\n",
    "\n",
    "plt.show()"
   ]
  },
  {
   "cell_type": "code",
   "execution_count": 12,
   "metadata": {},
   "outputs": [
    {
     "data": {
      "text/plain": [
       "0.5371938961768885"
      ]
     },
     "execution_count": 12,
     "metadata": {},
     "output_type": "execute_result"
    }
   ],
   "source": [
    "#Code for Durbin Watson test\n",
    "X = np.arange(len(data))\n",
    "Y = np.asarray(data)\n",
    "X = sm.add_constant(X)\n",
    "\n",
    "\n",
    "# Fit the ordinary least square method.\n",
    "ols_res = OLS(Y,X).fit()\n",
    "# apply durbin watson statistic on the ols residual\n",
    "durbin_watson(ols_res.resid)"
   ]
  },
  {
   "cell_type": "markdown",
   "metadata": {},
   "source": [
    "Decomposition\n",
    "Trend decomposition is another useful way to visualize the trends in time series data.\n",
    "To proceed, let’s import seasonal_decompose from the statsmodels package:\n",
    "from statsmodels.tsa.seasonal import seasonal_decompose\n"
   ]
  },
  {
   "cell_type": "markdown",
   "metadata": {},
   "source": [
    "Next, let’s pass our data frame into the seasonal_decompose method and plot the result:\n",
    "decompose = \n",
    "decompose.plot()\n",
    "plt.show()\n"
   ]
  },
  {
   "cell_type": "code",
   "execution_count": 13,
   "metadata": {},
   "outputs": [
    {
     "data": {
      "image/png": "[encoded data removed]",
      "text/plain": [
       "<Figure size 432x288 with 4 Axes>"
      ]
     },
     "metadata": {
      "needs_background": "light"
     },
     "output_type": "display_data"
    }
   ],
   "source": [
    "decompose = seasonal_decompose(data, model = 'additive')\n",
    "decompose.plot()\n",
    "plt.show()"
   ]
  },
  {
   "cell_type": "markdown",
   "metadata": {},
   "source": [
    "\n",
    "Can you describe the charts?\n"
   ]
  },
  {
   "cell_type": "markdown",
   "metadata": {},
   "source": [
    "Let's check the models on our dataset. Please note, if the dataset is non-stationary, you need to make it stationary"
   ]
  },
  {
   "cell_type": "code",
   "execution_count": 14,
   "metadata": {},
   "outputs": [
    {
     "name": "stdout",
     "output_type": "stream",
     "text": [
      "ADF Test Statistic: -2.96\n",
      "5% Critical Value: -2.88\n",
      "p-value: 0.039\n"
     ]
    }
   ],
   "source": [
    "# Add column with stationary series (based on difference vs. 2nd previous observation)\n",
    "data_stationary = data.diff(2)\n",
    "data_stationary.dropna(inplace = True)\n",
    "data_stationary.index = pd.to_datetime(data_stationary.index)\n",
    "result = adfuller(data_stationary, autolag='AIC')\n",
    "print('ADF Test Statistic: %.2f' % result[0])\n",
    "print('5%% Critical Value: %.2f' % result[4]['5%'])\n",
    "print('p-value: %.3f' % result[1])\n",
    "# p-value is 0.05 (ADF below 5% critical value), stationary"
   ]
  },
  {
   "cell_type": "markdown",
   "metadata": {},
   "source": [
    "MA(1)"
   ]
  },
  {
   "cell_type": "code",
   "execution_count": 15,
   "metadata": {},
   "outputs": [
    {
     "name": "stderr",
     "output_type": "stream",
     "text": [
      "C:\\Users\\Vito\\AppData\\Local\\Programs\\Python\\Python310\\lib\\site-packages\\statsmodels\\tsa\\base\\tsa_model.py:471: ValueWarning: No frequency information was provided, so inferred frequency MS will be used.\n",
      "  self._init_dates(dates, freq)\n",
      "C:\\Users\\Vito\\AppData\\Local\\Programs\\Python\\Python310\\lib\\site-packages\\statsmodels\\tsa\\base\\tsa_model.py:471: ValueWarning: No frequency information was provided, so inferred frequency MS will be used.\n",
      "  self._init_dates(dates, freq)\n",
      "C:\\Users\\Vito\\AppData\\Local\\Programs\\Python\\Python310\\lib\\site-packages\\statsmodels\\tsa\\base\\tsa_model.py:471: ValueWarning: No frequency information was provided, so inferred frequency MS will be used.\n",
      "  self._init_dates(dates, freq)\n"
     ]
    }
   ],
   "source": [
    "model_ma1 = ARIMA(data_stationary, order = (0,0,1))\n",
    "results_ma1 = model_ma1.fit()"
   ]
  },
  {
   "cell_type": "markdown",
   "metadata": {},
   "source": [
    "Display the output"
   ]
  },
  {
   "cell_type": "code",
   "execution_count": 16,
   "metadata": {},
   "outputs": [
    {
     "name": "stdout",
     "output_type": "stream",
     "text": [
      "                               SARIMAX Results                                \n",
      "==============================================================================\n",
      "Dep. Variable:             Passengers   No. Observations:                  142\n",
      "Model:                 ARIMA(0, 0, 1)   Log Likelihood                -703.526\n",
      "Date:                Thu, 31 Mar 2022   AIC                           1413.053\n",
      "Time:                        21:26:56   BIC                           1421.920\n",
      "Sample:                    03-01-1949   HQIC                          1416.656\n",
      "                         - 12-01-1960                                         \n",
      "Covariance Type:                  opg                                         \n",
      "==============================================================================\n",
      "                 coef    std err          z      P>|z|      [0.025      0.975]\n",
      "------------------------------------------------------------------------------\n",
      "const          4.4194      5.760      0.767      0.443      -6.871      15.709\n",
      "ma.L1          0.9988      0.918      1.088      0.277      -0.800       2.798\n",
      "sigma2      1138.2711   1049.632      1.084      0.278    -918.969    3195.511\n",
      "===================================================================================\n",
      "Ljung-Box (L1) (Q):                  13.49   Jarque-Bera (JB):                 4.30\n",
      "Prob(Q):                              0.00   Prob(JB):                         0.12\n",
      "Heteroskedasticity (H):               9.40   Skew:                            -0.31\n",
      "Prob(H) (two-sided):                  0.00   Kurtosis:                         3.59\n",
      "===================================================================================\n",
      "\n",
      "Warnings:\n",
      "[1] Covariance matrix calculated using the outer product of gradients (complex-step).\n"
     ]
    }
   ],
   "source": [
    "print(results_ma1.summary())"
   ]
  },
  {
   "cell_type": "markdown",
   "metadata": {},
   "source": [
    "MA(2)"
   ]
  },
  {
   "cell_type": "code",
   "execution_count": 17,
   "metadata": {},
   "outputs": [
    {
     "name": "stderr",
     "output_type": "stream",
     "text": [
      "C:\\Users\\Vito\\AppData\\Local\\Programs\\Python\\Python310\\lib\\site-packages\\statsmodels\\tsa\\base\\tsa_model.py:471: ValueWarning: No frequency information was provided, so inferred frequency MS will be used.\n",
      "  self._init_dates(dates, freq)\n",
      "C:\\Users\\Vito\\AppData\\Local\\Programs\\Python\\Python310\\lib\\site-packages\\statsmodels\\tsa\\base\\tsa_model.py:471: ValueWarning: No frequency information was provided, so inferred frequency MS will be used.\n",
      "  self._init_dates(dates, freq)\n",
      "C:\\Users\\Vito\\AppData\\Local\\Programs\\Python\\Python310\\lib\\site-packages\\statsmodels\\tsa\\base\\tsa_model.py:471: ValueWarning: No frequency information was provided, so inferred frequency MS will be used.\n",
      "  self._init_dates(dates, freq)\n",
      "C:\\Users\\Vito\\AppData\\Local\\Programs\\Python\\Python310\\lib\\site-packages\\statsmodels\\tsa\\statespace\\sarimax.py:978: UserWarning: Non-invertible starting MA parameters found. Using zeros as starting parameters.\n",
      "  warn('Non-invertible starting MA parameters found.'\n"
     ]
    }
   ],
   "source": [
    "model_ma2 = ARIMA(data_stationary, order = (0,0,2))\n",
    "results_ma2 = model_ma2.fit()"
   ]
  },
  {
   "cell_type": "markdown",
   "metadata": {},
   "source": [
    "Display the output"
   ]
  },
  {
   "cell_type": "code",
   "execution_count": 18,
   "metadata": {},
   "outputs": [
    {
     "name": "stdout",
     "output_type": "stream",
     "text": [
      "                               SARIMAX Results                                \n",
      "==============================================================================\n",
      "Dep. Variable:             Passengers   No. Observations:                  142\n",
      "Model:                 ARIMA(0, 0, 2)   Log Likelihood                -694.630\n",
      "Date:                Thu, 31 Mar 2022   AIC                           1397.260\n",
      "Time:                        21:26:56   BIC                           1409.084\n",
      "Sample:                    03-01-1949   HQIC                          1402.065\n",
      "                         - 12-01-1960                                         \n",
      "Covariance Type:                  opg                                         \n",
      "==============================================================================\n",
      "                 coef    std err          z      P>|z|      [0.025      0.975]\n",
      "------------------------------------------------------------------------------\n",
      "const          4.7903      7.465      0.642      0.521      -9.841      19.422\n",
      "ma.L1          1.3957      4.559      0.306      0.760      -7.541      10.332\n",
      "ma.L2          0.3958      1.777      0.223      0.824      -3.088       3.879\n",
      "sigma2       994.7723   4573.101      0.218      0.828   -7968.340    9957.885\n",
      "===================================================================================\n",
      "Ljung-Box (L1) (Q):                   0.02   Jarque-Bera (JB):                 1.40\n",
      "Prob(Q):                              0.88   Prob(JB):                         0.50\n",
      "Heteroskedasticity (H):               8.31   Skew:                            -0.12\n",
      "Prob(H) (two-sided):                  0.00   Kurtosis:                         3.42\n",
      "===================================================================================\n",
      "\n",
      "Warnings:\n",
      "[1] Covariance matrix calculated using the outer product of gradients (complex-step).\n"
     ]
    }
   ],
   "source": [
    "print(results_ma2.summary())"
   ]
  },
  {
   "cell_type": "markdown",
   "metadata": {},
   "source": [
    "AR(2)"
   ]
  },
  {
   "cell_type": "code",
   "execution_count": 19,
   "metadata": {},
   "outputs": [
    {
     "name": "stderr",
     "output_type": "stream",
     "text": [
      "C:\\Users\\Vito\\AppData\\Local\\Programs\\Python\\Python310\\lib\\site-packages\\statsmodels\\tsa\\base\\tsa_model.py:471: ValueWarning: No frequency information was provided, so inferred frequency MS will be used.\n",
      "  self._init_dates(dates, freq)\n",
      "C:\\Users\\Vito\\AppData\\Local\\Programs\\Python\\Python310\\lib\\site-packages\\statsmodels\\tsa\\base\\tsa_model.py:471: ValueWarning: No frequency information was provided, so inferred frequency MS will be used.\n",
      "  self._init_dates(dates, freq)\n"
     ]
    },
    {
     "name": "stdout",
     "output_type": "stream",
     "text": [
      "                               SARIMAX Results                                \n",
      "==============================================================================\n",
      "Dep. Variable:             Passengers   No. Observations:                  142\n",
      "Model:                 ARIMA(2, 0, 0)   Log Likelihood                -710.349\n",
      "Date:                Thu, 31 Mar 2022   AIC                           1428.698\n",
      "Time:                        21:26:56   BIC                           1440.521\n",
      "Sample:                    03-01-1949   HQIC                          1433.502\n",
      "                         - 12-01-1960                                         \n",
      "Covariance Type:                  opg                                         \n",
      "==============================================================================\n",
      "                 coef    std err          z      P>|z|      [0.025      0.975]\n",
      "------------------------------------------------------------------------------\n",
      "const          4.8277      5.811      0.831      0.406      -6.562      16.217\n",
      "ar.L1          0.9204      0.077     11.897      0.000       0.769       1.072\n",
      "ar.L2         -0.5886      0.072     -8.224      0.000      -0.729      -0.448\n",
      "sigma2      1284.5357    137.801      9.322      0.000    1014.451    1554.621\n",
      "===================================================================================\n",
      "Ljung-Box (L1) (Q):                   0.53   Jarque-Bera (JB):                12.33\n",
      "Prob(Q):                              0.47   Prob(JB):                         0.00\n",
      "Heteroskedasticity (H):               9.47   Skew:                             0.56\n",
      "Prob(H) (two-sided):                  0.00   Kurtosis:                         3.91\n",
      "===================================================================================\n",
      "\n",
      "Warnings:\n",
      "[1] Covariance matrix calculated using the outer product of gradients (complex-step).\n"
     ]
    },
    {
     "name": "stderr",
     "output_type": "stream",
     "text": [
      "C:\\Users\\Vito\\AppData\\Local\\Programs\\Python\\Python310\\lib\\site-packages\\statsmodels\\tsa\\base\\tsa_model.py:471: ValueWarning: No frequency information was provided, so inferred frequency MS will be used.\n",
      "  self._init_dates(dates, freq)\n"
     ]
    }
   ],
   "source": [
    "model_ar2 = ARIMA(data_stationary, order = (2,0,0))\n",
    "results_ar2 = model_ar2.fit()\n",
    "print(results_ar2.summary())"
   ]
  },
  {
   "cell_type": "markdown",
   "metadata": {},
   "source": [
    "ARMA (?,?)"
   ]
  },
  {
   "cell_type": "code",
   "execution_count": 20,
   "metadata": {},
   "outputs": [
    {
     "name": "stderr",
     "output_type": "stream",
     "text": [
      "C:\\Users\\Vito\\AppData\\Local\\Programs\\Python\\Python310\\lib\\site-packages\\statsmodels\\tsa\\base\\tsa_model.py:471: ValueWarning: No frequency information was provided, so inferred frequency MS will be used.\n",
      "  self._init_dates(dates, freq)\n",
      "C:\\Users\\Vito\\AppData\\Local\\Programs\\Python\\Python310\\lib\\site-packages\\statsmodels\\tsa\\base\\tsa_model.py:471: ValueWarning: No frequency information was provided, so inferred frequency MS will be used.\n",
      "  self._init_dates(dates, freq)\n",
      "C:\\Users\\Vito\\AppData\\Local\\Programs\\Python\\Python310\\lib\\site-packages\\statsmodels\\tsa\\base\\tsa_model.py:471: ValueWarning: No frequency information was provided, so inferred frequency MS will be used.\n",
      "  self._init_dates(dates, freq)\n"
     ]
    },
    {
     "name": "stdout",
     "output_type": "stream",
     "text": [
      "                               SARIMAX Results                                \n",
      "==============================================================================\n",
      "Dep. Variable:             Passengers   No. Observations:                  142\n",
      "Model:                 ARIMA(2, 0, 2)   Log Likelihood                -674.048\n",
      "Date:                Thu, 31 Mar 2022   AIC                           1360.097\n",
      "Time:                        21:26:56   BIC                           1377.832\n",
      "Sample:                    03-01-1949   HQIC                          1367.304\n",
      "                         - 12-01-1960                                         \n",
      "Covariance Type:                  opg                                         \n",
      "==============================================================================\n",
      "                 coef    std err          z      P>|z|      [0.025      0.975]\n",
      "------------------------------------------------------------------------------\n",
      "const          5.3360      0.311     17.184      0.000       4.727       5.945\n",
      "ar.L1          1.1031      0.068     16.287      0.000       0.970       1.236\n",
      "ar.L2         -0.5089      0.080     -6.325      0.000      -0.667      -0.351\n",
      "ma.L1       6.366e-05     18.119   3.51e-06      1.000     -35.512      35.512\n",
      "ma.L2         -0.9999      0.128     -7.813      0.000      -1.251      -0.749\n",
      "sigma2       724.3086      0.025    2.9e+04      0.000     724.260     724.358\n",
      "===================================================================================\n",
      "Ljung-Box (L1) (Q):                   0.30   Jarque-Bera (JB):                 6.08\n",
      "Prob(Q):                              0.58   Prob(JB):                         0.05\n",
      "Heteroskedasticity (H):               7.46   Skew:                             0.49\n",
      "Prob(H) (two-sided):                  0.00   Kurtosis:                         3.25\n",
      "===================================================================================\n",
      "\n",
      "Warnings:\n",
      "[1] Covariance matrix calculated using the outer product of gradients (complex-step).\n",
      "[2] Covariance matrix is singular or near-singular, with condition number 3.22e+21. Standard errors may be unstable.\n"
     ]
    }
   ],
   "source": [
    "model_arma22 = ARIMA(data_stationary, order = (2,0,2))\n",
    "results_arma22 = model_arma22.fit()\n",
    "print(results_arma22.summary())"
   ]
  },
  {
   "cell_type": "markdown",
   "metadata": {},
   "source": [
    "ARIMA(?,?)"
   ]
  },
  {
   "cell_type": "code",
   "execution_count": 21,
   "metadata": {},
   "outputs": [
    {
     "name": "stdout",
     "output_type": "stream",
     "text": [
      "                               SARIMAX Results                                \n",
      "==============================================================================\n",
      "Dep. Variable:             Passengers   No. Observations:                  144\n",
      "Model:                 ARIMA(2, 1, 2)   Log Likelihood                -671.673\n",
      "Date:                Thu, 31 Mar 2022   AIC                           1353.347\n",
      "Time:                        21:26:56   BIC                           1368.161\n",
      "Sample:                    01-01-1949   HQIC                          1359.366\n",
      "                         - 12-01-1960                                         \n",
      "Covariance Type:                  opg                                         \n",
      "==============================================================================\n",
      "                 coef    std err          z      P>|z|      [0.025      0.975]\n",
      "------------------------------------------------------------------------------\n",
      "ar.L1          1.6850      0.020     83.059      0.000       1.645       1.725\n",
      "ar.L2         -0.9548      0.017    -55.420      0.000      -0.989      -0.921\n",
      "ma.L1         -1.8432      0.125    -14.797      0.000      -2.087      -1.599\n",
      "ma.L2          0.9953      0.135      7.374      0.000       0.731       1.260\n",
      "sigma2       665.9566    114.106      5.836      0.000     442.313     889.600\n",
      "===================================================================================\n",
      "Ljung-Box (L1) (Q):                   0.30   Jarque-Bera (JB):                 1.84\n",
      "Prob(Q):                              0.59   Prob(JB):                         0.40\n",
      "Heteroskedasticity (H):               7.38   Skew:                             0.27\n",
      "Prob(H) (two-sided):                  0.00   Kurtosis:                         3.14\n",
      "===================================================================================\n",
      "\n",
      "Warnings:\n",
      "[1] Covariance matrix calculated using the outer product of gradients (complex-step).\n"
     ]
    },
    {
     "name": "stderr",
     "output_type": "stream",
     "text": [
      "C:\\Users\\Vito\\AppData\\Local\\Programs\\Python\\Python310\\lib\\site-packages\\statsmodels\\tsa\\base\\tsa_model.py:471: ValueWarning: No frequency information was provided, so inferred frequency MS will be used.\n",
      "  self._init_dates(dates, freq)\n",
      "C:\\Users\\Vito\\AppData\\Local\\Programs\\Python\\Python310\\lib\\site-packages\\statsmodels\\tsa\\base\\tsa_model.py:471: ValueWarning: No frequency information was provided, so inferred frequency MS will be used.\n",
      "  self._init_dates(dates, freq)\n",
      "C:\\Users\\Vito\\AppData\\Local\\Programs\\Python\\Python310\\lib\\site-packages\\statsmodels\\tsa\\base\\tsa_model.py:471: ValueWarning: No frequency information was provided, so inferred frequency MS will be used.\n",
      "  self._init_dates(dates, freq)\n",
      "C:\\Users\\Vito\\AppData\\Local\\Programs\\Python\\Python310\\lib\\site-packages\\statsmodels\\base\\model.py:604: ConvergenceWarning: Maximum Likelihood optimization failed to converge. Check mle_retvals\n",
      "  warnings.warn(\"Maximum Likelihood optimization failed to \"\n"
     ]
    }
   ],
   "source": [
    "data.index = pd.to_datetime(data.index)\n",
    "model_arima212 = ARIMA(data, order = (2,1,2)) # No need to take data_stationary as ARIMA will make the data stationary\n",
    "results_arima212 = model_arima212.fit()\n",
    "print(results_arima212.summary())"
   ]
  },
  {
   "cell_type": "markdown",
   "metadata": {},
   "source": [
    "Let’s calculate root mean squared error (RMSE) for all the models. Explain the values"
   ]
  },
  {
   "cell_type": "code",
   "execution_count": 22,
   "metadata": {},
   "outputs": [
    {
     "name": "stdout",
     "output_type": "stream",
     "text": [
      "MA(1): 33.94379615550638\n",
      "MA(2): 31.774484303882478\n",
      "AR(2): 35.853647934369086\n",
      "ARMA(2,2): 27.304243289697578\n",
      "ARIMA(2,1,2): 27.643078223231488\n"
     ]
    }
   ],
   "source": [
    "\n",
    "\n",
    "models = {\n",
    "    'MA(1)': results_ma1,\n",
    "    'MA(2)': results_ma2,\n",
    "    'AR(2)': results_ar2,\n",
    "    'ARMA(2,2)': results_arma22,\n",
    "    'ARIMA(2,1,2)': results_arima212\n",
    "}\n",
    "\n",
    "for model_name, results in models.items():\n",
    "    if not ('ARIMA' in model_name):\n",
    "        print(f'{model_name}: {mean_squared_error(y_true = data_stationary, y_pred = results.predict(), squared=False)}')\n",
    "    else:\n",
    "        print(f'{model_name}: {mean_squared_error(y_true = data, y_pred = results.predict(), squared=False)}')"
   ]
  },
  {
   "cell_type": "markdown",
   "metadata": {},
   "source": [
    "Calculate AIC"
   ]
  },
  {
   "cell_type": "code",
   "execution_count": 23,
   "metadata": {},
   "outputs": [
    {
     "name": "stdout",
     "output_type": "stream",
     "text": [
      "MA(1): 1413.0526946769132\n",
      "MA(2): 1397.2602020127893\n",
      "AR(2): 1428.6976114859654\n",
      "ARMA(2,2): 1360.096841471263\n",
      "ARIMA(2,1,2): 1353.3466410551532\n"
     ]
    }
   ],
   "source": [
    "for model_name, results in models.items():\n",
    "    print(f'{model_name}: {results.aic}')"
   ]
  }
 ],
 "metadata": {
  "kernelspec": {
   "display_name": "Python 3",
   "language": "python",
   "name": "python3"
  },
  "language_info": {
   "codemirror_mode": {
    "name": "ipython",
    "version": 3
   },
   "file_extension": ".py",
   "mimetype": "text/x-python",
   "name": "python",
   "nbconvert_exporter": "python",
   "pygments_lexer": "ipython3",
   "version": "3.10.0"
  }
 },
 "nbformat": 4,
 "nbformat_minor": 4
}
