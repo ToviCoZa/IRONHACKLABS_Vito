{
 "cells": [
  {
   "cell_type": "code",
   "execution_count": 1,
   "metadata": {},
   "outputs": [],
   "source": [
    "import pandas as pd\n",
    "import numpy as np\n",
    "import matplotlib.pyplot as plt\n",
    "import seaborn as sns\n",
    "import yfinance as yf\n",
    "import pmdarima as pm\n",
    "from sklearn import metrics\n",
    "from statsmodels.tsa.stattools import adfuller\n",
    "from statsmodels.graphics.tsaplots import plot_acf\n",
    "from statsmodels.graphics.tsaplots import plot_pacf\n",
    "from statsmodels.tsa.arima.model import ARIMA\n"
   ]
  },
  {
   "cell_type": "code",
   "execution_count": 2,
   "metadata": {},
   "outputs": [
    {
     "name": "stdout",
     "output_type": "stream",
     "text": [
      "[*********************100%***********************]  1 of 1 completed\n"
     ]
    }
   ],
   "source": [
    "btc = yf.download(tickers = 'BTC-USD')[['Close']]\n",
    "btc.index = pd.DatetimeIndex(btc.index.values, freq = btc.index.inferred_freq)"
   ]
  },
  {
   "cell_type": "code",
   "execution_count": 3,
   "metadata": {},
   "outputs": [
    {
     "data": {
      "text/html": [
       "<div>\n",
       "<style scoped>\n",
       "    .dataframe tbody tr th:only-of-type {\n",
       "        vertical-align: middle;\n",
       "    }\n",
       "\n",
       "    .dataframe tbody tr th {\n",
       "        vertical-align: top;\n",
       "    }\n",
       "\n",
       "    .dataframe thead th {\n",
       "        text-align: right;\n",
       "    }\n",
       "</style>\n",
       "<table border=\"1\" class=\"dataframe\">\n",
       "  <thead>\n",
       "    <tr style=\"text-align: right;\">\n",
       "      <th></th>\n",
       "      <th>Close</th>\n",
       "    </tr>\n",
       "  </thead>\n",
       "  <tbody>\n",
       "    <tr>\n",
       "      <th>2014-09-17</th>\n",
       "      <td>457.334015</td>\n",
       "    </tr>\n",
       "    <tr>\n",
       "      <th>2014-09-18</th>\n",
       "      <td>424.440002</td>\n",
       "    </tr>\n",
       "    <tr>\n",
       "      <th>2014-09-19</th>\n",
       "      <td>394.795990</td>\n",
       "    </tr>\n",
       "    <tr>\n",
       "      <th>2014-09-20</th>\n",
       "      <td>408.903992</td>\n",
       "    </tr>\n",
       "    <tr>\n",
       "      <th>2014-09-21</th>\n",
       "      <td>398.821014</td>\n",
       "    </tr>\n",
       "  </tbody>\n",
       "</table>\n",
       "</div>"
      ],
      "text/plain": [
       "                 Close\n",
       "2014-09-17  457.334015\n",
       "2014-09-18  424.440002\n",
       "2014-09-19  394.795990\n",
       "2014-09-20  408.903992\n",
       "2014-09-21  398.821014"
      ]
     },
     "execution_count": 3,
     "metadata": {},
     "output_type": "execute_result"
    }
   ],
   "source": [
    "btc.head()"
   ]
  },
  {
   "cell_type": "code",
   "execution_count": 4,
   "metadata": {},
   "outputs": [
    {
     "data": {
      "image/png": "[encoded data removed]",
      "text/plain": [
       "<Figure size 432x288 with 1 Axes>"
      ]
     },
     "metadata": {
      "needs_background": "light"
     },
     "output_type": "display_data"
    }
   ],
   "source": [
    "fig = plt.figure()\n",
    "ax = fig.add_subplot(111)\n",
    "sns.lineplot(x = btc.index, y='Close', data = btc, ax = ax)\n",
    "ax.set_title('BTC-USD')\n",
    "ax.set_ylabel('Closing price')\n",
    "plt.show()"
   ]
  },
  {
   "cell_type": "code",
   "execution_count": 5,
   "metadata": {},
   "outputs": [
    {
     "name": "stderr",
     "output_type": "stream",
     "text": [
      "C:\\Users\\Vito\\AppData\\Local\\Programs\\Python\\Python310\\lib\\site-packages\\pandas\\core\\frame.py:4906: SettingWithCopyWarning: \n",
      "A value is trying to be set on a copy of a slice from a DataFrame\n",
      "\n",
      "See the caveats in the documentation: https://pandas.pydata.org/pandas-docs/stable/user_guide/indexing.html#returning-a-view-versus-a-copy\n",
      "  return super().drop(\n"
     ]
    }
   ],
   "source": [
    "# Let's consider only data since Jan 2021 only\n",
    "idx_todrop = pd.date_range(start = btc.iloc[0].name.date(), end = '2020-12-31')\n",
    "btc.drop(idx_todrop, inplace=True)"
   ]
  },
  {
   "cell_type": "code",
   "execution_count": 6,
   "metadata": {},
   "outputs": [
    {
     "data": {
      "text/html": [
       "<div>\n",
       "<style scoped>\n",
       "    .dataframe tbody tr th:only-of-type {\n",
       "        vertical-align: middle;\n",
       "    }\n",
       "\n",
       "    .dataframe tbody tr th {\n",
       "        vertical-align: top;\n",
       "    }\n",
       "\n",
       "    .dataframe thead th {\n",
       "        text-align: right;\n",
       "    }\n",
       "</style>\n",
       "<table border=\"1\" class=\"dataframe\">\n",
       "  <thead>\n",
       "    <tr style=\"text-align: right;\">\n",
       "      <th></th>\n",
       "      <th>Close</th>\n",
       "    </tr>\n",
       "  </thead>\n",
       "  <tbody>\n",
       "    <tr>\n",
       "      <th>2021-01-01</th>\n",
       "      <td>29374.152344</td>\n",
       "    </tr>\n",
       "    <tr>\n",
       "      <th>2021-01-02</th>\n",
       "      <td>32127.267578</td>\n",
       "    </tr>\n",
       "    <tr>\n",
       "      <th>2021-01-03</th>\n",
       "      <td>32782.023438</td>\n",
       "    </tr>\n",
       "    <tr>\n",
       "      <th>2021-01-04</th>\n",
       "      <td>31971.914062</td>\n",
       "    </tr>\n",
       "    <tr>\n",
       "      <th>2021-01-05</th>\n",
       "      <td>33992.429688</td>\n",
       "    </tr>\n",
       "  </tbody>\n",
       "</table>\n",
       "</div>"
      ],
      "text/plain": [
       "                   Close\n",
       "2021-01-01  29374.152344\n",
       "2021-01-02  32127.267578\n",
       "2021-01-03  32782.023438\n",
       "2021-01-04  31971.914062\n",
       "2021-01-05  33992.429688"
      ]
     },
     "execution_count": 6,
     "metadata": {},
     "output_type": "execute_result"
    }
   ],
   "source": [
    "btc.head()"
   ]
  },
  {
   "cell_type": "code",
   "execution_count": 9,
   "metadata": {},
   "outputs": [
    {
     "data": {
      "image/png": "[encoded data removed]",
      "text/plain": [
       "<Figure size 432x288 with 1 Axes>"
      ]
     },
     "metadata": {
      "needs_background": "light"
     },
     "output_type": "display_data"
    }
   ],
   "source": [
    "fig = plt.figure()\n",
    "ax = fig.add_subplot(111)\n",
    "sns.lineplot(x = btc.index, y='Close', data = btc, ax = ax)\n",
    "ax.set_title('BTC-USD')\n",
    "ax.set_ylabel('Closing price')\n",
    "plt.show()"
   ]
  },
  {
   "cell_type": "code",
   "execution_count": 10,
   "metadata": {},
   "outputs": [
    {
     "name": "stdout",
     "output_type": "stream",
     "text": [
      "ADF Test Statistic: -2.52\n",
      "5% Critical Value: -2.87\n",
      "p-value: 0.11\n"
     ]
    }
   ],
   "source": [
    "# CHECK STATIONARITY\n",
    "# From the graph above, we can definitely conclude that there is no stationarity.\n",
    "# Let's confirm this with ADFULLER and KPSS tests.\n",
    "\n",
    "# ADFULLER\n",
    "result = adfuller(btc.Close)\n",
    "print('ADF Test Statistic: %.2f' % result[0])\n",
    "print('5%% Critical Value: %.2f' % result[4]['5%'])\n",
    "print('p-value: %.2f' % result[1])"
   ]
  },
  {
   "cell_type": "markdown",
   "metadata": {},
   "source": [
    "p-value of 0.11: the time series is not stationary."
   ]
  },
  {
   "cell_type": "code",
   "execution_count": 11,
   "metadata": {},
   "outputs": [
    {
     "name": "stdout",
     "output_type": "stream",
     "text": [
      "(0.20294180919911653, 0.1, 12, {'10%': 0.347, '5%': 0.463, '2.5%': 0.574, '1%': 0.739})\n",
      "KPSS Test Statistic: 0.20\n",
      "5% Critical Value: 0.46\n",
      "p-value: 0.10\n"
     ]
    },
    {
     "name": "stderr",
     "output_type": "stream",
     "text": [
      "C:\\Users\\Vito\\AppData\\Local\\Programs\\Python\\Python310\\lib\\site-packages\\statsmodels\\tsa\\stattools.py:2022: InterpolationWarning: The test statistic is outside of the range of p-values available in the\n",
      "look-up table. The actual p-value is greater than the p-value returned.\n",
      "\n",
      "  warnings.warn(\n"
     ]
    }
   ],
   "source": [
    "# KPSS\n",
    "from statsmodels.tsa.stattools import kpss\n",
    "\n",
    "result = kpss(btc.Close)\n",
    "print(result)\n",
    "print('KPSS Test Statistic: %.2f' % result[0])\n",
    "print('5%% Critical Value: %.2f' % result[3]['5%'])\n",
    "print('p-value: %.2f' % result[1])"
   ]
  },
  {
   "cell_type": "code",
   "execution_count": 12,
   "metadata": {},
   "outputs": [
    {
     "name": "stdout",
     "output_type": "stream",
     "text": [
      "Stationary time series found with differenciating depth of 1.\n"
     ]
    },
    {
     "name": "stderr",
     "output_type": "stream",
     "text": [
      "C:\\Users\\Vito\\AppData\\Local\\Programs\\Python\\Python310\\lib\\site-packages\\statsmodels\\tsa\\stattools.py:2022: InterpolationWarning: The test statistic is outside of the range of p-values available in the\n",
      "look-up table. The actual p-value is greater than the p-value returned.\n",
      "\n",
      "  warnings.warn(\n",
      "C:\\Users\\Vito\\AppData\\Local\\Temp\\ipykernel_14524\\1061917828.py:15: SettingWithCopyWarning: \n",
      "A value is trying to be set on a copy of a slice from a DataFrame.\n",
      "Try using .loc[row_indexer,col_indexer] = value instead\n",
      "\n",
      "See the caveats in the documentation: https://pandas.pydata.org/pandas-docs/stable/user_guide/indexing.html#returning-a-view-versus-a-copy\n",
      "  btc['Close_stationary'] = make_stationary(btc.Close)\n"
     ]
    }
   ],
   "source": [
    "# p-value above 0.10: the time series is stationary.\n",
    "\n",
    "# KPSS indicates stationarity and ADF indicates non-stationarity - The series is trend stationary.\n",
    "# Trend needs to be removed to make series strict stationary. \n",
    "# Let's create a function to make the time series stationary.\n",
    "\n",
    "def make_stationary(time_series, diff_depth = 10):\n",
    "    for i in range(1, diff_depth+1):\n",
    "        time_series_stationary = time_series.diff(periods = i).dropna()\n",
    "        if (adfuller(time_series_stationary)[1] < 0.05) and (kpss(time_series_stationary)[1] > 0.05):\n",
    "            print(f'Stationary time series found with differenciating depth of {i}.')\n",
    "            return time_series_stationary\n",
    "    return None\n",
    "\n",
    "btc['Close_stationary'] = make_stationary(btc.Close)\n",
    "\n",
    "if not btc.Close_stationary.any():\n",
    "    print('Please increase depth of differenciation.')"
   ]
  },
  {
   "cell_type": "code",
   "execution_count": 13,
   "metadata": {},
   "outputs": [
    {
     "data": {
      "text/html": [
       "<div>\n",
       "<style scoped>\n",
       "    .dataframe tbody tr th:only-of-type {\n",
       "        vertical-align: middle;\n",
       "    }\n",
       "\n",
       "    .dataframe tbody tr th {\n",
       "        vertical-align: top;\n",
       "    }\n",
       "\n",
       "    .dataframe thead th {\n",
       "        text-align: right;\n",
       "    }\n",
       "</style>\n",
       "<table border=\"1\" class=\"dataframe\">\n",
       "  <thead>\n",
       "    <tr style=\"text-align: right;\">\n",
       "      <th></th>\n",
       "      <th>Close</th>\n",
       "      <th>Close_stationary</th>\n",
       "    </tr>\n",
       "  </thead>\n",
       "  <tbody>\n",
       "    <tr>\n",
       "      <th>2021-01-01</th>\n",
       "      <td>29374.152344</td>\n",
       "      <td>NaN</td>\n",
       "    </tr>\n",
       "    <tr>\n",
       "      <th>2021-01-02</th>\n",
       "      <td>32127.267578</td>\n",
       "      <td>2753.115234</td>\n",
       "    </tr>\n",
       "    <tr>\n",
       "      <th>2021-01-03</th>\n",
       "      <td>32782.023438</td>\n",
       "      <td>654.755859</td>\n",
       "    </tr>\n",
       "    <tr>\n",
       "      <th>2021-01-04</th>\n",
       "      <td>31971.914062</td>\n",
       "      <td>-810.109375</td>\n",
       "    </tr>\n",
       "    <tr>\n",
       "      <th>2021-01-05</th>\n",
       "      <td>33992.429688</td>\n",
       "      <td>2020.515625</td>\n",
       "    </tr>\n",
       "  </tbody>\n",
       "</table>\n",
       "</div>"
      ],
      "text/plain": [
       "                   Close  Close_stationary\n",
       "2021-01-01  29374.152344               NaN\n",
       "2021-01-02  32127.267578       2753.115234\n",
       "2021-01-03  32782.023438        654.755859\n",
       "2021-01-04  31971.914062       -810.109375\n",
       "2021-01-05  33992.429688       2020.515625"
      ]
     },
     "execution_count": 13,
     "metadata": {},
     "output_type": "execute_result"
    }
   ],
   "source": [
    "btc.head()"
   ]
  },
  {
   "cell_type": "code",
   "execution_count": 14,
   "metadata": {},
   "outputs": [
    {
     "data": {
      "image/png": "[encoded data removed]",
      "text/plain": [
       "<Figure size 432x288 with 1 Axes>"
      ]
     },
     "metadata": {
      "needs_background": "light"
     },
     "output_type": "display_data"
    }
   ],
   "source": [
    "fig = plt.figure()\n",
    "ax = fig.add_subplot(111)\n",
    "sns.lineplot(x = btc.index, y='Close_stationary', data = btc, ax = ax)\n",
    "ax.set_title('BTC-USD')\n",
    "ax.set_ylabel('Daily variation of Closing price')\n",
    "plt.show()"
   ]
  },
  {
   "cell_type": "code",
   "execution_count": 15,
   "metadata": {},
   "outputs": [
    {
     "data": {
      "image/png": "[encoded data removed]",
      "text/plain": [
       "<Figure size 432x288 with 1 Axes>"
      ]
     },
     "metadata": {
      "needs_background": "light"
     },
     "output_type": "display_data"
    }
   ],
   "source": [
    "# CHECK AUTO-CORRELATION\n",
    "\n",
    "# Calculate the ACF (via statsmodel)\n",
    "plot_acf(btc.Close_stationary.dropna(), alpha =0.05, lags=30)\n",
    "# Show the data as a plot (via matplotlib)\n",
    "plt.show()"
   ]
  },
  {
   "cell_type": "markdown",
   "metadata": {},
   "source": [
    "No auto-correlation of the stationary time series"
   ]
  },
  {
   "cell_type": "code",
   "execution_count": 16,
   "metadata": {},
   "outputs": [
    {
     "name": "stderr",
     "output_type": "stream",
     "text": [
      "C:\\Users\\Vito\\AppData\\Local\\Programs\\Python\\Python310\\lib\\site-packages\\statsmodels\\graphics\\tsaplots.py:348: FutureWarning: The default method 'yw' can produce PACF values outside of the [-1,1] interval. After 0.13, the default will change tounadjusted Yule-Walker ('ywm'). You can use this method now by setting method='ywm'.\n",
      "  warnings.warn(\n"
     ]
    },
    {
     "data": {
      "image/png": "[encoded data removed]",
      "text/plain": [
       "<Figure size 432x288 with 1 Axes>"
      ]
     },
     "metadata": {
      "needs_background": "light"
     },
     "output_type": "display_data"
    }
   ],
   "source": [
    "# PARTIAL AUTO-CORRELATION\n",
    "plot_pacf(btc.Close_stationary.dropna(), alpha =0.05, lags= 30)\n",
    "plt.show()"
   ]
  },
  {
   "cell_type": "markdown",
   "metadata": {},
   "source": [
    "No partial auto-correlation of the stationary time series"
   ]
  },
  {
   "cell_type": "code",
   "execution_count": 17,
   "metadata": {},
   "outputs": [
    {
     "name": "stderr",
     "output_type": "stream",
     "text": [
      "C:\\Users\\Vito\\AppData\\Local\\Programs\\Python\\Python310\\lib\\site-packages\\statsmodels\\base\\model.py:604: ConvergenceWarning: Maximum Likelihood optimization failed to converge. Check mle_retvals\n",
      "  warnings.warn(\"Maximum Likelihood optimization failed to \"\n",
      "C:\\Users\\Vito\\AppData\\Local\\Programs\\Python\\Python310\\lib\\site-packages\\statsmodels\\base\\model.py:604: ConvergenceWarning: Maximum Likelihood optimization failed to converge. Check mle_retvals\n",
      "  warnings.warn(\"Maximum Likelihood optimization failed to \"\n"
     ]
    },
    {
     "data": {
      "text/html": [
       "<div>\n",
       "<style scoped>\n",
       "    .dataframe tbody tr th:only-of-type {\n",
       "        vertical-align: middle;\n",
       "    }\n",
       "\n",
       "    .dataframe tbody tr th {\n",
       "        vertical-align: top;\n",
       "    }\n",
       "\n",
       "    .dataframe thead th {\n",
       "        text-align: right;\n",
       "    }\n",
       "</style>\n",
       "<table border=\"1\" class=\"dataframe\">\n",
       "  <thead>\n",
       "    <tr style=\"text-align: right;\">\n",
       "      <th></th>\n",
       "      <th>MAE</th>\n",
       "      <th>MAPE</th>\n",
       "      <th>MSE</th>\n",
       "      <th>RMSE</th>\n",
       "      <th>NRMSE</th>\n",
       "      <th>AIC</th>\n",
       "      <th>BIC</th>\n",
       "    </tr>\n",
       "  </thead>\n",
       "  <tbody>\n",
       "    <tr>\n",
       "      <th>AR(1)</th>\n",
       "      <td>1336.683096</td>\n",
       "      <td>1.016074</td>\n",
       "      <td>3.311080e+06</td>\n",
       "      <td>1819.637320</td>\n",
       "      <td>0.122559</td>\n",
       "      <td>8110.201002</td>\n",
       "      <td>8122.555293</td>\n",
       "    </tr>\n",
       "    <tr>\n",
       "      <th>AR(2)</th>\n",
       "      <td>1335.935209</td>\n",
       "      <td>1.031238</td>\n",
       "      <td>3.310933e+06</td>\n",
       "      <td>1819.596980</td>\n",
       "      <td>0.122556</td>\n",
       "      <td>8112.179341</td>\n",
       "      <td>8128.651729</td>\n",
       "    </tr>\n",
       "    <tr>\n",
       "      <th>AR(3)</th>\n",
       "      <td>1335.748862</td>\n",
       "      <td>1.030686</td>\n",
       "      <td>3.310802e+06</td>\n",
       "      <td>1819.560943</td>\n",
       "      <td>0.122554</td>\n",
       "      <td>8114.161415</td>\n",
       "      <td>8134.751901</td>\n",
       "    </tr>\n",
       "    <tr>\n",
       "      <th>MA(1)</th>\n",
       "      <td>1336.542234</td>\n",
       "      <td>1.018808</td>\n",
       "      <td>3.311040e+06</td>\n",
       "      <td>1819.626445</td>\n",
       "      <td>0.122558</td>\n",
       "      <td>8110.193951</td>\n",
       "      <td>8122.548242</td>\n",
       "    </tr>\n",
       "    <tr>\n",
       "      <th>MA(2)</th>\n",
       "      <td>1336.051043</td>\n",
       "      <td>1.028898</td>\n",
       "      <td>3.310960e+06</td>\n",
       "      <td>1819.604445</td>\n",
       "      <td>0.122557</td>\n",
       "      <td>8112.184220</td>\n",
       "      <td>8128.656609</td>\n",
       "    </tr>\n",
       "    <tr>\n",
       "      <th>MA(3)</th>\n",
       "      <td>1335.667603</td>\n",
       "      <td>1.031248</td>\n",
       "      <td>3.310686e+06</td>\n",
       "      <td>1819.528953</td>\n",
       "      <td>0.122551</td>\n",
       "      <td>8114.174146</td>\n",
       "      <td>8134.764632</td>\n",
       "    </tr>\n",
       "    <tr>\n",
       "      <th>ARMA(1,1)</th>\n",
       "      <td>1336.268078</td>\n",
       "      <td>1.024121</td>\n",
       "      <td>3.310994e+06</td>\n",
       "      <td>1819.613769</td>\n",
       "      <td>0.122557</td>\n",
       "      <td>8112.187632</td>\n",
       "      <td>8128.660020</td>\n",
       "    </tr>\n",
       "    <tr>\n",
       "      <th>ARMA(1,2)</th>\n",
       "      <td>1336.002507</td>\n",
       "      <td>1.029741</td>\n",
       "      <td>3.310948e+06</td>\n",
       "      <td>1819.601001</td>\n",
       "      <td>0.122556</td>\n",
       "      <td>8114.182505</td>\n",
       "      <td>8134.772991</td>\n",
       "    </tr>\n",
       "    <tr>\n",
       "      <th>ARMA(1,3)</th>\n",
       "      <td>1336.047905</td>\n",
       "      <td>1.046924</td>\n",
       "      <td>3.309939e+06</td>\n",
       "      <td>1819.323647</td>\n",
       "      <td>0.122538</td>\n",
       "      <td>8116.076167</td>\n",
       "      <td>8140.784750</td>\n",
       "    </tr>\n",
       "    <tr>\n",
       "      <th>ARMA(2,1)</th>\n",
       "      <td>1336.550728</td>\n",
       "      <td>1.062085</td>\n",
       "      <td>3.310727e+06</td>\n",
       "      <td>1819.540428</td>\n",
       "      <td>0.122552</td>\n",
       "      <td>8114.150862</td>\n",
       "      <td>8134.741348</td>\n",
       "    </tr>\n",
       "    <tr>\n",
       "      <th>ARMA(2,2)</th>\n",
       "      <td>1336.718773</td>\n",
       "      <td>1.017231</td>\n",
       "      <td>3.310667e+06</td>\n",
       "      <td>1819.523937</td>\n",
       "      <td>0.122551</td>\n",
       "      <td>8116.144030</td>\n",
       "      <td>8140.852614</td>\n",
       "    </tr>\n",
       "    <tr>\n",
       "      <th>ARMA(2,3)</th>\n",
       "      <td>1337.838667</td>\n",
       "      <td>1.343931</td>\n",
       "      <td>3.268715e+06</td>\n",
       "      <td>1807.958760</td>\n",
       "      <td>0.121772</td>\n",
       "      <td>8111.993018</td>\n",
       "      <td>8140.819698</td>\n",
       "    </tr>\n",
       "    <tr>\n",
       "      <th>ARMA(3,1)</th>\n",
       "      <td>1335.270686</td>\n",
       "      <td>1.042049</td>\n",
       "      <td>3.309161e+06</td>\n",
       "      <td>1819.109891</td>\n",
       "      <td>0.122523</td>\n",
       "      <td>8115.936484</td>\n",
       "      <td>8140.645067</td>\n",
       "    </tr>\n",
       "    <tr>\n",
       "      <th>ARMA(3,2)</th>\n",
       "      <td>1337.644234</td>\n",
       "      <td>1.070293</td>\n",
       "      <td>3.310641e+06</td>\n",
       "      <td>1819.516560</td>\n",
       "      <td>0.122551</td>\n",
       "      <td>8118.140531</td>\n",
       "      <td>8146.967211</td>\n",
       "    </tr>\n",
       "    <tr>\n",
       "      <th>ARMA(3,3)</th>\n",
       "      <td>1339.231501</td>\n",
       "      <td>1.332100</td>\n",
       "      <td>3.265326e+06</td>\n",
       "      <td>1807.021294</td>\n",
       "      <td>0.121709</td>\n",
       "      <td>8113.704920</td>\n",
       "      <td>8146.649698</td>\n",
       "    </tr>\n",
       "  </tbody>\n",
       "</table>\n",
       "</div>"
      ],
      "text/plain": [
       "                   MAE      MAPE           MSE         RMSE     NRMSE  \\\n",
       "AR(1)      1336.683096  1.016074  3.311080e+06  1819.637320  0.122559   \n",
       "AR(2)      1335.935209  1.031238  3.310933e+06  1819.596980  0.122556   \n",
       "AR(3)      1335.748862  1.030686  3.310802e+06  1819.560943  0.122554   \n",
       "MA(1)      1336.542234  1.018808  3.311040e+06  1819.626445  0.122558   \n",
       "MA(2)      1336.051043  1.028898  3.310960e+06  1819.604445  0.122557   \n",
       "MA(3)      1335.667603  1.031248  3.310686e+06  1819.528953  0.122551   \n",
       "ARMA(1,1)  1336.268078  1.024121  3.310994e+06  1819.613769  0.122557   \n",
       "ARMA(1,2)  1336.002507  1.029741  3.310948e+06  1819.601001  0.122556   \n",
       "ARMA(1,3)  1336.047905  1.046924  3.309939e+06  1819.323647  0.122538   \n",
       "ARMA(2,1)  1336.550728  1.062085  3.310727e+06  1819.540428  0.122552   \n",
       "ARMA(2,2)  1336.718773  1.017231  3.310667e+06  1819.523937  0.122551   \n",
       "ARMA(2,3)  1337.838667  1.343931  3.268715e+06  1807.958760  0.121772   \n",
       "ARMA(3,1)  1335.270686  1.042049  3.309161e+06  1819.109891  0.122523   \n",
       "ARMA(3,2)  1337.644234  1.070293  3.310641e+06  1819.516560  0.122551   \n",
       "ARMA(3,3)  1339.231501  1.332100  3.265326e+06  1807.021294  0.121709   \n",
       "\n",
       "                   AIC          BIC  \n",
       "AR(1)      8110.201002  8122.555293  \n",
       "AR(2)      8112.179341  8128.651729  \n",
       "AR(3)      8114.161415  8134.751901  \n",
       "MA(1)      8110.193951  8122.548242  \n",
       "MA(2)      8112.184220  8128.656609  \n",
       "MA(3)      8114.174146  8134.764632  \n",
       "ARMA(1,1)  8112.187632  8128.660020  \n",
       "ARMA(1,2)  8114.182505  8134.772991  \n",
       "ARMA(1,3)  8116.076167  8140.784750  \n",
       "ARMA(2,1)  8114.150862  8134.741348  \n",
       "ARMA(2,2)  8116.144030  8140.852614  \n",
       "ARMA(2,3)  8111.993018  8140.819698  \n",
       "ARMA(3,1)  8115.936484  8140.645067  \n",
       "ARMA(3,2)  8118.140531  8146.967211  \n",
       "ARMA(3,3)  8113.704920  8146.649698  "
      ]
     },
     "execution_count": 17,
     "metadata": {},
     "output_type": "execute_result"
    }
   ],
   "source": [
    "# The time series is now stationary and not auto-correlated, we can implement AR and MA models\n",
    "\n",
    "\n",
    "\n",
    "def implement_arima_model(data, order):\n",
    "    model = ARIMA(data, order = order, freq = 'D')\n",
    "    results = model.fit()\n",
    "    p = order[0]\n",
    "    d = order[1]\n",
    "    q = order[2]\n",
    "    y_true = data.values\n",
    "    y_pred = results.predict(n_periods = len(data))\n",
    "    if p>0:\n",
    "        if q>0:\n",
    "            if d>0:\n",
    "                model_name = f'ARIMA({p},{d},{q})'\n",
    "            else:\n",
    "                model_name = f'ARMA({p},{q})'\n",
    "        else:\n",
    "            model_name = f'AR({p})'\n",
    "    else:\n",
    "        model_name = f'MA({q})'\n",
    "    MAE = metrics.mean_absolute_error(y_true=y_true, y_pred = y_pred)\n",
    "    MAPE = metrics.mean_absolute_percentage_error(y_true=y_true, y_pred = y_pred)\n",
    "    MSE = metrics.mean_squared_error(y_true=y_true, y_pred = y_pred)\n",
    "    RMSE = np.sqrt(metrics.mean_squared_error(y_true=y_true, y_pred = y_pred))\n",
    "    NRMSE = np.sqrt(metrics.mean_squared_error(y_true=y_true, y_pred = y_pred)) / (np.max(y_true) - np.min(y_true))\n",
    "    AIC = results.aic\n",
    "    BIC = results.bic\n",
    "    return [model_name, MAE, MAPE, MSE, RMSE, NRMSE, AIC, BIC]\n",
    "    \n",
    "cols = ['MAE', 'MAPE', 'MSE', 'RMSE', 'NRMSE', 'AIC', 'BIC']\n",
    "\n",
    "df_model_comparison = pd.DataFrame(columns = cols)\n",
    "\n",
    "# AR(1) to AR(3)\n",
    "for p in range(1,3+1):\n",
    "    model_results = implement_arima_model(btc.Close_stationary.dropna(), order = (p,0,0))\n",
    "    df_results = pd.DataFrame([model_results[1:]], index = [model_results[0]], columns = cols)\n",
    "    df_model_comparison = pd.concat([df_model_comparison, df_results])\n",
    "\n",
    "# MA(1) to MA(3)\n",
    "for q in range(1,3+1):\n",
    "    model_results = implement_arima_model(btc.Close_stationary.dropna(), order = (0,0,q))\n",
    "    df_results = pd.DataFrame([model_results[1:]], index = [model_results[0]], columns = cols)\n",
    "    df_model_comparison = pd.concat([df_model_comparison, df_results])\n",
    "\n",
    "# ARMA(1,1) to ARMA(3,3)\n",
    "for p in range(1, 3+1):\n",
    "    for q in range(1,3+1):\n",
    "        model_results = implement_arima_model(btc.Close_stationary.dropna(), order = (p,0,q))\n",
    "        df_results = pd.DataFrame([model_results[1:]], index = [model_results[0]], columns = cols)\n",
    "        df_model_comparison = pd.concat([df_model_comparison, df_results])\n",
    "\n",
    "df_model_comparison"
   ]
  },
  {
   "cell_type": "code",
   "execution_count": 18,
   "metadata": {},
   "outputs": [
    {
     "name": "stdout",
     "output_type": "stream",
     "text": [
      "Performing stepwise search to minimize aic\n",
      " ARIMA(2,0,2)(0,0,0)[0]             : AIC=8137.999, Time=0.27 sec\n",
      " ARIMA(0,0,0)(0,0,0)[0]             : AIC=11085.393, Time=0.01 sec\n",
      " ARIMA(1,0,0)(0,0,0)[0]             : AIC=inf, Time=0.03 sec\n",
      " ARIMA(0,0,1)(0,0,0)[0]             : AIC=inf, Time=0.07 sec\n",
      " ARIMA(1,0,2)(0,0,0)[0]             : AIC=8136.714, Time=0.03 sec\n",
      " ARIMA(0,0,2)(0,0,0)[0]             : AIC=9981.932, Time=0.25 sec\n",
      " ARIMA(1,0,1)(0,0,0)[0]             : AIC=8135.167, Time=0.02 sec\n",
      " ARIMA(2,0,1)(0,0,0)[0]             : AIC=8136.584, Time=0.05 sec\n",
      " ARIMA(2,0,0)(0,0,0)[0]             : AIC=inf, Time=0.01 sec\n",
      " ARIMA(1,0,1)(0,0,0)[0] intercept   : AIC=8130.098, Time=0.04 sec\n",
      " ARIMA(0,0,1)(0,0,0)[0] intercept   : AIC=9098.781, Time=0.10 sec\n",
      " ARIMA(1,0,0)(0,0,0)[0] intercept   : AIC=8128.453, Time=0.02 sec\n",
      " ARIMA(0,0,0)(0,0,0)[0] intercept   : AIC=9599.578, Time=0.01 sec\n",
      " ARIMA(2,0,0)(0,0,0)[0] intercept   : AIC=8130.076, Time=0.05 sec\n",
      " ARIMA(2,0,1)(0,0,0)[0] intercept   : AIC=8131.722, Time=0.10 sec\n",
      "\n",
      "Best model:  ARIMA(1,0,0)(0,0,0)[0] intercept\n",
      "Total fit time: 1.041 seconds\n"
     ]
    }
   ],
   "source": [
    "# ARIMA: using auto_arima\n",
    "\n",
    "model = pm.arima.auto_arima(btc.Close, trace = True, error_action='ignore', suppress_warnings=True, seasonal = False)"
   ]
  },
  {
   "cell_type": "code",
   "execution_count": 19,
   "metadata": {},
   "outputs": [
    {
     "data": {
      "text/plain": [
       "ARIMA(order=(1, 0, 0), scoring_args={}, suppress_warnings=True)"
      ]
     },
     "execution_count": 19,
     "metadata": {},
     "output_type": "execute_result"
    }
   ],
   "source": [
    "model.fit(btc.Close)"
   ]
  },
  {
   "cell_type": "code",
   "execution_count": 20,
   "metadata": {},
   "outputs": [
    {
     "data": {
      "text/html": [
       "<table class=\"simpletable\">\n",
       "<caption>SARIMAX Results</caption>\n",
       "<tr>\n",
       "  <th>Dep. Variable:</th>           <td>y</td>        <th>  No. Observations:  </th>    <td>455</td>   \n",
       "</tr>\n",
       "<tr>\n",
       "  <th>Model:</th>           <td>SARIMAX(1, 0, 0)</td> <th>  Log Likelihood     </th> <td>-4061.226</td>\n",
       "</tr>\n",
       "<tr>\n",
       "  <th>Date:</th>            <td>Thu, 31 Mar 2022</td> <th>  AIC                </th> <td>8128.453</td> \n",
       "</tr>\n",
       "<tr>\n",
       "  <th>Time:</th>                <td>21:35:08</td>     <th>  BIC                </th> <td>8140.813</td> \n",
       "</tr>\n",
       "<tr>\n",
       "  <th>Sample:</th>                  <td>0</td>        <th>  HQIC               </th> <td>8133.322</td> \n",
       "</tr>\n",
       "<tr>\n",
       "  <th></th>                      <td> - 455</td>      <th>                     </th>     <td> </td>    \n",
       "</tr>\n",
       "<tr>\n",
       "  <th>Covariance Type:</th>        <td>opg</td>       <th>                     </th>     <td> </td>    \n",
       "</tr>\n",
       "</table>\n",
       "<table class=\"simpletable\">\n",
       "<tr>\n",
       "      <td></td>         <th>coef</th>     <th>std err</th>      <th>z</th>      <th>P>|z|</th>  <th>[0.025</th>    <th>0.975]</th>  \n",
       "</tr>\n",
       "<tr>\n",
       "  <th>intercept</th> <td> 1112.5984</td> <td>  368.142</td> <td>    3.022</td> <td> 0.003</td> <td>  391.053</td> <td> 1834.144</td>\n",
       "</tr>\n",
       "<tr>\n",
       "  <th>ar.L1</th>     <td>    0.9755</td> <td>    0.008</td> <td>  119.123</td> <td> 0.000</td> <td>    0.959</td> <td>    0.992</td>\n",
       "</tr>\n",
       "<tr>\n",
       "  <th>sigma2</th>    <td> 3.269e+06</td> <td>    0.063</td> <td> 5.15e+07</td> <td> 0.000</td> <td> 3.27e+06</td> <td> 3.27e+06</td>\n",
       "</tr>\n",
       "</table>\n",
       "<table class=\"simpletable\">\n",
       "<tr>\n",
       "  <th>Ljung-Box (L1) (Q):</th>     <td>0.29</td> <th>  Jarque-Bera (JB):  </th> <td>37.56</td>\n",
       "</tr>\n",
       "<tr>\n",
       "  <th>Prob(Q):</th>                <td>0.59</td> <th>  Prob(JB):          </th> <td>0.00</td> \n",
       "</tr>\n",
       "<tr>\n",
       "  <th>Heteroskedasticity (H):</th> <td>0.49</td> <th>  Skew:              </th> <td>-0.06</td>\n",
       "</tr>\n",
       "<tr>\n",
       "  <th>Prob(H) (two-sided):</th>    <td>0.00</td> <th>  Kurtosis:          </th> <td>4.40</td> \n",
       "</tr>\n",
       "</table><br/><br/>Warnings:<br/>[1] Covariance matrix calculated using the outer product of gradients (complex-step).<br/>[2] Covariance matrix is singular or near-singular, with condition number 6.32e+27. Standard errors may be unstable."
      ],
      "text/plain": [
       "<class 'statsmodels.iolib.summary.Summary'>\n",
       "\"\"\"\n",
       "                               SARIMAX Results                                \n",
       "==============================================================================\n",
       "Dep. Variable:                      y   No. Observations:                  455\n",
       "Model:               SARIMAX(1, 0, 0)   Log Likelihood               -4061.226\n",
       "Date:                Thu, 31 Mar 2022   AIC                           8128.453\n",
       "Time:                        21:35:08   BIC                           8140.813\n",
       "Sample:                             0   HQIC                          8133.322\n",
       "                                - 455                                         \n",
       "Covariance Type:                  opg                                         \n",
       "==============================================================================\n",
       "                 coef    std err          z      P>|z|      [0.025      0.975]\n",
       "------------------------------------------------------------------------------\n",
       "intercept   1112.5984    368.142      3.022      0.003     391.053    1834.144\n",
       "ar.L1          0.9755      0.008    119.123      0.000       0.959       0.992\n",
       "sigma2      3.269e+06      0.063   5.15e+07      0.000    3.27e+06    3.27e+06\n",
       "===================================================================================\n",
       "Ljung-Box (L1) (Q):                   0.29   Jarque-Bera (JB):                37.56\n",
       "Prob(Q):                              0.59   Prob(JB):                         0.00\n",
       "Heteroskedasticity (H):               0.49   Skew:                            -0.06\n",
       "Prob(H) (two-sided):                  0.00   Kurtosis:                         4.40\n",
       "===================================================================================\n",
       "\n",
       "Warnings:\n",
       "[1] Covariance matrix calculated using the outer product of gradients (complex-step).\n",
       "[2] Covariance matrix is singular or near-singular, with condition number 6.32e+27. Standard errors may be unstable.\n",
       "\"\"\""
      ]
     },
     "execution_count": 20,
     "metadata": {},
     "output_type": "execute_result"
    }
   ],
   "source": [
    "model.summary()"
   ]
  },
  {
   "cell_type": "code",
   "execution_count": 21,
   "metadata": {},
   "outputs": [
    {
     "data": {
      "text/html": [
       "<div>\n",
       "<style scoped>\n",
       "    .dataframe tbody tr th:only-of-type {\n",
       "        vertical-align: middle;\n",
       "    }\n",
       "\n",
       "    .dataframe tbody tr th {\n",
       "        vertical-align: top;\n",
       "    }\n",
       "\n",
       "    .dataframe thead th {\n",
       "        text-align: right;\n",
       "    }\n",
       "</style>\n",
       "<table border=\"1\" class=\"dataframe\">\n",
       "  <thead>\n",
       "    <tr style=\"text-align: right;\">\n",
       "      <th></th>\n",
       "      <th>Prediction</th>\n",
       "    </tr>\n",
       "  </thead>\n",
       "  <tbody>\n",
       "    <tr>\n",
       "      <th>2022-04-01</th>\n",
       "      <td>45757.320950</td>\n",
       "    </tr>\n",
       "    <tr>\n",
       "      <th>2022-04-02</th>\n",
       "      <td>45747.627809</td>\n",
       "    </tr>\n",
       "    <tr>\n",
       "      <th>2022-04-03</th>\n",
       "      <td>45738.172412</td>\n",
       "    </tr>\n",
       "    <tr>\n",
       "      <th>2022-04-04</th>\n",
       "      <td>45728.948928</td>\n",
       "    </tr>\n",
       "    <tr>\n",
       "      <th>2022-04-05</th>\n",
       "      <td>45719.951668</td>\n",
       "    </tr>\n",
       "  </tbody>\n",
       "</table>\n",
       "</div>"
      ],
      "text/plain": [
       "              Prediction\n",
       "2022-04-01  45757.320950\n",
       "2022-04-02  45747.627809\n",
       "2022-04-03  45738.172412\n",
       "2022-04-04  45728.948928\n",
       "2022-04-05  45719.951668"
      ]
     },
     "execution_count": 21,
     "metadata": {},
     "output_type": "execute_result"
    }
   ],
   "source": [
    "forecast = model.predict(n_periods = 5)\n",
    "forecast = pd.DataFrame(forecast, columns = ['Prediction'])\n",
    "forecast.set_index(pd.date_range(start = btc.iloc[-1].name.date() + pd.DateOffset(1), end = btc.iloc[-1].name.date() + pd.DateOffset(5)), inplace = True)\n",
    "forecast"
   ]
  },
  {
   "cell_type": "code",
   "execution_count": 22,
   "metadata": {},
   "outputs": [
    {
     "data": {
      "image/png": "[encoded data removed]",
      "text/plain": [
       "<Figure size 432x288 with 1 Axes>"
      ]
     },
     "metadata": {
      "needs_background": "light"
     },
     "output_type": "display_data"
    }
   ],
   "source": [
    "fig = plt.figure()\n",
    "ax = fig.add_subplot(111)\n",
    "btc_zoom = btc.tail(10)\n",
    "sns.lineplot(x = btc_zoom.index, y='Close', data = btc_zoom, ax = ax, color = \"blue\")\n",
    "sns.lineplot(x = forecast.index , y = 'Prediction', data = forecast, ax = ax, color = \"red\")\n",
    "ax.set_title('BTC-USD')\n",
    "ax.set_xlabel('Date')\n",
    "ax.set_ylabel('Closing price')\n",
    "plt.show()"
   ]
  },
  {
   "cell_type": "markdown",
   "metadata": {},
   "source": [
    "According to the (not great) model, BTC price is likely to decrease, so I should not buy BTC now."
   ]
  }
 ],
 "metadata": {
  "interpreter": {
   "hash": "381d564c28dfad84e05612ca662c9b838b98bf4c0f46d800b7da3536152dd462"
  },
  "kernelspec": {
   "display_name": "Python 3.10.0 64-bit",
   "language": "python",
   "name": "python3"
  },
  "language_info": {
   "codemirror_mode": {
    "name": "ipython",
    "version": 3
   },
   "file_extension": ".py",
   "mimetype": "text/x-python",
   "name": "python",
   "nbconvert_exporter": "python",
   "pygments_lexer": "ipython3",
   "version": "3.10.0"
  },
  "orig_nbformat": 4
 },
 "nbformat": 4,
 "nbformat_minor": 2
}
