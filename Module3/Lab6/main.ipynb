{
 "cells": [
  {
   "cell_type": "markdown",
   "metadata": {},
   "source": [
    "# Before your start:\n",
    "- Read the README.md file\n",
    "- Comment as much as you can and use the resources (README.md file)\n",
    "- Happy learning!"
   ]
  },
  {
   "cell_type": "code",
   "execution_count": 34,
   "metadata": {},
   "outputs": [],
   "source": [
    "# Run this code:\n",
    "\n",
    "%matplotlib inline\n",
    "\n",
    "import matplotlib.pyplot as plt"
   ]
  },
  {
   "cell_type": "code",
   "execution_count": 35,
   "metadata": {},
   "outputs": [],
   "source": [
    "# Import numpy and pandas:\n",
    "import pandas as pd\n",
    "import numpy as np"
   ]
  },
  {
   "cell_type": "markdown",
   "metadata": {},
   "source": [
    "# Challenge 1 - Reading and Standardizing the Data\n",
    "\n",
    "In this challenge we will work with image data and reduce the dimensions of the data to create a 2 dimensional plot. While we have not worked much with image data before, it can be represented as a numpy array where each pixel is assigned a numeric value. In this lesson, we will look at a dataset of cats and a dataset of dogs and see whether reducing them to two dimensions allows us to see if the data is separable. We will start by loading and processing the data. Run the cell below to load the two csv files and convert them into numpy arrays."
   ]
  },
  {
   "cell_type": "code",
   "execution_count": 36,
   "metadata": {},
   "outputs": [],
   "source": [
    "# Run this code\n",
    "\n",
    "cats = np.array(pd.read_csv(\"https://raw.githubusercontent.com/bioramble/pca/master/cat.csv\", header=None))\n",
    "dogs = np.array(pd.read_csv(\"https://raw.githubusercontent.com/bioramble/pca/master/dog.csv\", header=None))"
   ]
  },
  {
   "cell_type": "markdown",
   "metadata": {},
   "source": [
    "Next, we'll examine the shape of both the cats and the dogs arrays. Print out both shapes below."
   ]
  },
  {
   "cell_type": "code",
   "execution_count": 37,
   "metadata": {},
   "outputs": [
    {
     "name": "stdout",
     "output_type": "stream",
     "text": [
      "(4096, 80)\n",
      "(4096, 80)\n"
     ]
    }
   ],
   "source": [
    "# Your code here:\n",
    "print(cats.shape)\n",
    "print(dogs.shape)\n"
   ]
  },
  {
   "cell_type": "markdown",
   "metadata": {},
   "source": [
    "What this means is that both arrays contain 80 images each (the number of columns). Each image is comprised of 64x64 pixels (so a total of 4096 pixels per image). The images have been flattened such that all 4096 are in a single row.\n",
    "\n",
    "Print out column 0 of the cats array to see what the pixels values look like."
   ]
  },
  {
   "cell_type": "code",
   "execution_count": 38,
   "metadata": {},
   "outputs": [
    {
     "data": {
      "text/plain": [
       "array([ 64,  23, 250, 137,  55, 173,  18, 134,  19,  47, 109, 164,  41,\n",
       "        78, 108, 108, 247, 105, 158,  54, 103,   4,  23, 102, 239,  72,\n",
       "        42,  21, 168, 109, 112, 177,  22, 233,  15, 236, 250, 137,  32,\n",
       "         5, 178, 109,  24, 107,  53, 241, 226, 143,   5, 136,  98, 100,\n",
       "        89,  66, 228,  92, 255,  88, 230,  56, 160,  69,   6,  24, 195,\n",
       "       183, 239,  35, 154, 154, 122,  18,  87, 106, 174,  69,  28,  60,\n",
       "       223, 101], dtype=int64)"
      ]
     },
     "execution_count": 38,
     "metadata": {},
     "output_type": "execute_result"
    }
   ],
   "source": [
    "# Your code here:\n",
    "cats[0]\n",
    "\n"
   ]
  },
  {
   "cell_type": "markdown",
   "metadata": {},
   "source": [
    "Using `matplotlib` we can plot a single cat or a single dog. We do this by reshaping the vector back to a 64x64 image and then using the `imshow` function.\n",
    "\n",
    "Run the code below to look at the first dog and the first cat."
   ]
  },
  {
   "cell_type": "code",
   "execution_count": 39,
   "metadata": {},
   "outputs": [
    {
     "data": {
      "text/plain": [
       "<matplotlib.image.AxesImage at 0x217d9f85f40>"
      ]
     },
     "execution_count": 39,
     "metadata": {},
     "output_type": "execute_result"
    },
    {
     "data": {
      "image/png": "[encoded data removed]",
      "text/plain": [
       "<Figure size 432x288 with 1 Axes>"
      ]
     },
     "metadata": {
      "needs_background": "light"
     },
     "output_type": "display_data"
    }
   ],
   "source": [
    "# Run this code:\n",
    "\n",
    "fig, ax = plt.subplots()\n",
    "ax.imshow(cats[:,0].reshape(64, 64).T, cmap=plt.cm.bone, interpolation='nearest') "
   ]
  },
  {
   "cell_type": "code",
   "execution_count": 40,
   "metadata": {},
   "outputs": [
    {
     "data": {
      "text/plain": [
       "<matplotlib.image.AxesImage at 0x217f65a1040>"
      ]
     },
     "execution_count": 40,
     "metadata": {},
     "output_type": "execute_result"
    },
    {
     "data": {
      "image/png": "[encoded data removed]",
      "text/plain": [
       "<Figure size 432x288 with 1 Axes>"
      ]
     },
     "metadata": {
      "needs_background": "light"
     },
     "output_type": "display_data"
    }
   ],
   "source": [
    "# Run this code:\n",
    "\n",
    "fig, ax = plt.subplots()\n",
    "ax.imshow(dogs[:,0].reshape(64, 64).T, cmap=plt.cm.bone, interpolation='nearest') "
   ]
  },
  {
   "cell_type": "markdown",
   "metadata": {},
   "source": [
    "Next, we would like to create a standardization function. This function will find the mean and standard deviation of each image. We subtract the mean from each pixel and divide each pixel by the standard deviation. Write the function below.\n",
    "\n",
    "Hint: To find the mean and standard deviation of each image, use `numpy`'s version of mean and stadnard deviation and use `axis=0`."
   ]
  },
  {
   "cell_type": "code",
   "execution_count": 41,
   "metadata": {},
   "outputs": [
    {
     "name": "stdout",
     "output_type": "stream",
     "text": [
      "[2.5 3.5 4.5] [1.5 1.5 1.5]\n"
     ]
    },
    {
     "data": {
      "text/plain": [
       "array([[-1., -1., -1.],\n",
       "       [ 1.,  1.,  1.]])"
      ]
     },
     "execution_count": 41,
     "metadata": {},
     "output_type": "execute_result"
    }
   ],
   "source": [
    "def standardize(x):\n",
    "    #This function takes as input a numpy array and returns a stadardized numpy array of the same dimensions.\n",
    "    #Sample input: np.array([[1,2,3],[4,5,6]])\n",
    "    #Sample output: np.array([[-1,-1,-1],[1,1,1]])\n",
    "    mean = np.mean(x, axis=0)\n",
    "    std = np.std(x, axis=0)\n",
    "    print(mean, std)\n",
    "    return (x-mean) / std\n",
    "\n",
    "\n",
    "standardize(np.array([[1,2,3],[4,5,6]]))\n",
    "    "
   ]
  },
  {
   "cell_type": "markdown",
   "metadata": {},
   "source": [
    "Now, use the `np.concatenate` function to combine the cats and dogs arrays. Use `axis=1` to combine the two correctly. Make sure to put dogs first."
   ]
  },
  {
   "cell_type": "code",
   "execution_count": 42,
   "metadata": {},
   "outputs": [],
   "source": [
    "# Your code here:\n",
    "dogsandcats = np.concatenate([dogs, cats], axis=1)\n"
   ]
  },
  {
   "cell_type": "markdown",
   "metadata": {},
   "source": [
    "Standardize the concatenated array below."
   ]
  },
  {
   "cell_type": "code",
   "execution_count": 43,
   "metadata": {},
   "outputs": [
    {
     "name": "stdout",
     "output_type": "stream",
     "text": [
      "[ 86.87036133 153.08520508  89.57641602 139.72192383 107.21875\n",
      " 110.53344727 145.91333008 129.62426758 100.31518555 111.27929688\n",
      " 113.30200195  86.80859375 156.45678711  74.37402344 115.13525391\n",
      " 105.3894043  100.39916992 124.72558594  98.86450195  86.07519531\n",
      "  92.5012207  123.43237305  75.37109375 160.19702148 148.74169922\n",
      " 151.13037109  71.95288086 108.87255859  98.92504883 147.12084961\n",
      " 126.89355469 154.64526367 119.2824707  176.171875   145.37915039\n",
      " 144.5625      92.09887695 159.39038086 166.60107422 147.01123047\n",
      " 132.97436523 102.68286133 175.25024414 152.51489258 136.30737305\n",
      " 136.74975586 143.38769531 156.63818359 117.11816406 157.01293945\n",
      " 116.62890625  63.30932617  53.11645508 101.4765625  127.13842773\n",
      " 100.30419922 110.2265625  122.6628418  116.25756836 108.06518555\n",
      " 125.9387207  114.57177734 137.43823242  83.06494141 182.51611328\n",
      " 143.42382812  85.41186523 111.20800781 143.25927734 117.7902832\n",
      " 150.36206055 147.27270508 114.65332031 159.74584961 105.9519043\n",
      " 129.49829102 108.67602539 113.12573242 145.8293457  100.27246094\n",
      "  58.60961914 105.92651367  76.70654297  75.40576172  68.93774414\n",
      " 124.59277344  81.84619141  98.37060547 128.23486328 138.37109375\n",
      " 131.01000977 170.98510742 141.52563477  85.37011719 125.72973633\n",
      " 114.515625   118.96118164  84.36132812  86.71630859 158.82299805\n",
      "  53.68920898 130.87109375 152.79003906 169.81323242  66.42626953\n",
      " 122.22705078  84.70336914 173.52294922 124.28417969 109.91650391\n",
      "  89.74658203  71.20239258  93.21337891  58.1550293  117.23413086\n",
      " 180.37719727  98.83837891 143.53344727 136.16748047  43.03051758\n",
      " 137.52270508  69.82495117 141.43164062 170.62817383 174.93212891\n",
      " 187.10913086 189.74609375 154.75366211 121.72998047 101.93725586\n",
      "  68.96020508 106.49291992 114.39868164 143.00195312 157.80444336\n",
      " 116.49731445 103.53881836 122.97924805 119.79345703 157.18652344\n",
      " 131.90185547  88.17553711  81.78369141 138.07592773 138.16577148\n",
      " 118.41040039 103.95532227  86.4074707  130.89404297 153.68603516\n",
      " 118.29077148 115.99633789  97.88745117 111.52514648 108.92480469\n",
      " 113.12426758 125.55737305 130.51489258 141.3737793  109.18579102] [57.6992179  71.81479011 40.13043942 44.96693195 48.96451202 75.36533646\n",
      " 52.48835025 66.09320838 51.11396316 61.13470192 55.61186955 33.39476657\n",
      " 40.8111132  32.76523007 64.75842856 43.75351521 53.79716398 55.87589913\n",
      " 44.42366884 65.63242674 61.68785222 74.35005698 54.26042602 72.53882312\n",
      " 66.10350977 78.12739743 52.44355668 47.22705677 76.86948975 60.96084725\n",
      " 57.62239349 59.02317964 62.8386998  62.3995071  86.99651767 59.52553696\n",
      " 41.73353248 58.86118713 67.81262269 64.26773429 57.24180803 29.18210033\n",
      " 55.52377662 61.44208777 60.09461944 63.66460369 81.42568497 58.56260378\n",
      " 73.72796746 64.0355704  53.59631448 56.16233421 32.68448036 57.46363012\n",
      " 43.70625188 69.81897451 47.99436854 41.83949458 70.97327922 48.46975135\n",
      " 56.17385388 43.17211222 64.19476128 43.97277746 67.4405354  60.3351727\n",
      " 70.03854649 78.24793574 75.74748063 60.36742329 61.16809348 57.24144994\n",
      " 69.26079725 49.09810718 50.69573455 50.99429825 58.25719822 89.24098651\n",
      " 58.94535281 68.84172137 63.54083483 55.05342948 96.22107579 42.96377137\n",
      " 57.44792378 62.28054978 55.96826821 51.26000622 68.82531752 76.29355816\n",
      " 48.29057502 54.21961926 67.51638493 56.29031737 62.82928068 30.60020122\n",
      " 52.19689948 54.52922013 52.65832792 54.14346961 57.05866927 75.27339483\n",
      " 59.20283723 53.44195459 72.82675848 55.36435344 47.36381225 64.4733204\n",
      " 51.92344127 47.11854814 44.34041057 76.55561069 61.80528646 90.00324777\n",
      " 47.67908897 46.27695643 66.93139964 55.19650491 57.64545781 48.69005024\n",
      " 46.5723875  80.41545184 60.69968994 42.82566719 76.36164843 33.41360207\n",
      " 34.24949367 74.99337283 68.55681551 35.98625387 66.78793345 42.49268605\n",
      " 56.2258237  62.65667469 45.97060977 43.58760589 84.51332964 47.18754976\n",
      " 49.94796429 49.77835516 38.49131949 38.81452789 57.88293925 57.74085803\n",
      " 62.90148866 51.96500362 65.83188896 57.8063361  33.3196815  54.49292672\n",
      " 45.23953903 55.92957116 41.98795143 41.42002545 62.59846314 42.08075543\n",
      " 55.3095173  38.99785617 57.36469463 40.19746065]\n"
     ]
    },
    {
     "data": {
      "text/plain": [
       "array([[ 2.37662907, -0.30753004,  0.93254857, ..., -1.80817356,\n",
       "         1.42293481, -0.20363951],\n",
       "       [ 2.37662907, -0.40500299,  1.15681724, ..., -2.06459792,\n",
       "         1.44036713, -0.05437635],\n",
       "       [ 2.37662907, -0.68349716,  0.93254857, ..., -1.73124626,\n",
       "         1.45779946, -0.07925354],\n",
       "       ...,\n",
       "       [ 0.22755315, -0.68349716,  0.63352369, ..., -0.65426398,\n",
       "         0.67334483,  0.11976401],\n",
       "       [ 0.22755315, -0.40500299,  0.35941754, ..., -0.32091232,\n",
       "         0.70820948, -0.45241144],\n",
       "       [ 0.22755315, -0.40500299,  0.35941754, ..., -0.67990641,\n",
       "         0.62104786,  0.09488681]])"
      ]
     },
     "execution_count": 43,
     "metadata": {},
     "output_type": "execute_result"
    }
   ],
   "source": [
    "# Your code here:\n",
    "standardize(dogsandcats)"
   ]
  },
  {
   "cell_type": "markdown",
   "metadata": {},
   "source": [
    "# Challenge 2 - Using PCA\n",
    "\n",
    "Now that we have created a standardized matrix of cats and dogs, we'll find the two most important components in the data.\n",
    "\n",
    "Load the `PCA` function from `statsmodels` (read about this function [here](https://www.statsmodels.org/dev/generated/statsmodels.multivariate.pca.PCA.html)) and apply the function to our standarized data. Create a PCA model with two components."
   ]
  },
  {
   "cell_type": "code",
   "execution_count": 44,
   "metadata": {},
   "outputs": [
    {
     "data": {
      "text/plain": [
       "array([[-0.0281972 ,  0.03761988],\n",
       "       [-0.02930316,  0.03603805],\n",
       "       [-0.02896758,  0.03650552],\n",
       "       ...,\n",
       "       [-0.00500112,  0.01625536],\n",
       "       [-0.00460157,  0.01609771],\n",
       "       [-0.00393417,  0.01648368]])"
      ]
     },
     "execution_count": 44,
     "metadata": {},
     "output_type": "execute_result"
    }
   ],
   "source": [
    "# Your code here:\n",
    "from statsmodels.multivariate.pca import PCA\n",
    "\n",
    "pca = PCA(dogsandcats,standardize=False, ncomp=2)\n",
    "pca.factors\n"
   ]
  },
  {
   "cell_type": "markdown",
   "metadata": {},
   "source": [
    "Use `numpy` to find to transpose the standardized pet array. This will help us compute the projection."
   ]
  },
  {
   "cell_type": "code",
   "execution_count": 45,
   "metadata": {},
   "outputs": [
    {
     "data": {
      "text/plain": [
       "array([[224, 224, 224, ..., 100, 100, 100],\n",
       "       [131, 124, 104, ..., 104, 124, 124],\n",
       "       [127, 136, 127, ..., 115, 104, 104],\n",
       "       ...,\n",
       "       [ 60,  50,  63, ..., 105, 118, 104],\n",
       "       [223, 224, 225, ..., 180, 182, 177],\n",
       "       [101, 107, 106, ..., 114,  91, 113]], dtype=int64)"
      ]
     },
     "execution_count": 45,
     "metadata": {},
     "output_type": "execute_result"
    }
   ],
   "source": [
    "# Your code here:\n",
    "dogsandcats = np.transpose(dogsandcats)\n",
    "dogsandcats\n"
   ]
  },
  {
   "cell_type": "markdown",
   "metadata": {},
   "source": [
    "Find the dot product of the transposed standardized pet matrix and the `factors` of the `PCA` model found above. This will be the projection onto 2 dimensions. This means that each cat and dog image will now only have two columns instead of 4096."
   ]
  },
  {
   "cell_type": "code",
   "execution_count": 46,
   "metadata": {},
   "outputs": [
    {
     "data": {
      "text/plain": [
       "array([[-2.40786800e+03,  8.93333874e+02],\n",
       "       [-2.34665905e+03, -1.32160553e+03],\n",
       "       [ 5.07254368e+02, -6.81392256e+02],\n",
       "       [-2.64165539e+02, -1.45568020e+03],\n",
       "       [-1.60897076e+03,  2.73880881e+02],\n",
       "       [ 6.45022178e+02, -3.48591367e+03],\n",
       "       [-1.15965281e+03, -6.67529300e+02],\n",
       "       [-1.00149556e+03, -2.68910387e+03],\n",
       "       [-6.63399571e+02, -1.97542336e+03],\n",
       "       [-2.41675441e+03,  1.91917278e+02],\n",
       "       [-4.76858644e+01, -1.94054090e+03],\n",
       "       [-7.23693993e+02, -5.69983548e+02],\n",
       "       [-3.83195745e+02, -5.99209821e+02],\n",
       "       [ 7.85261664e+01, -4.84601632e+02],\n",
       "       [-1.26936121e+03, -2.02844099e+03],\n",
       "       [-7.89179954e+02, -1.39976528e+03],\n",
       "       [-8.57605151e+02, -4.46411688e+02],\n",
       "       [-2.18619829e+03, -1.14704924e+03],\n",
       "       [-8.32744055e+02, -1.26244553e+03],\n",
       "       [-1.06506433e+03, -3.03331249e+03],\n",
       "       [ 1.42952102e+02, -2.12665966e+03],\n",
       "       [-2.01743423e+02, -2.96178147e+03],\n",
       "       [-5.34084086e+02, -7.64471802e+02],\n",
       "       [-9.00641385e+02, -3.03818956e+03],\n",
       "       [-1.85518537e+03, -2.08576978e+03],\n",
       "       [-8.38019416e+01, -3.42477135e+03],\n",
       "       [ 1.74537596e+02, -1.49250988e+03],\n",
       "       [-3.03835407e+01, -1.06168463e+03],\n",
       "       [-1.11381206e+03, -3.78495484e+03],\n",
       "       [-6.01521607e+02, -1.49859250e+03],\n",
       "       [-3.50885898e+02, -1.76893755e+03],\n",
       "       [-4.70579440e+02, -1.58922936e+03],\n",
       "       [-1.92813381e+03, -1.90675601e+03],\n",
       "       [-8.64115690e+02, -2.18011611e+03],\n",
       "       [ 5.92342832e+02, -3.41520691e+03],\n",
       "       [-9.94309939e+02, -8.42215139e+02],\n",
       "       [ 5.49968206e+02, -1.54457850e+03],\n",
       "       [-1.05173245e+02, -1.98427802e+03],\n",
       "       [ 3.79441439e+02, -2.90453487e+03],\n",
       "       [-1.89371655e+03, -1.31360674e+03],\n",
       "       [-1.01598097e+03, -2.26709982e+03],\n",
       "       [-3.18841540e+02,  5.00730080e+02],\n",
       "       [ 5.15510361e+02, -1.72730817e+03],\n",
       "       [-9.39898193e+02, -1.67518437e+03],\n",
       "       [ 4.72961030e+02, -9.74432414e+02],\n",
       "       [-1.22198672e+03,  1.41505207e+03],\n",
       "       [-2.20394033e+03,  9.53591201e+02],\n",
       "       [-4.29307959e+02, -5.39767747e+02],\n",
       "       [-1.12994244e+03,  1.05941124e+03],\n",
       "       [ 1.04494695e+03, -2.15425572e+03],\n",
       "       [-1.51994805e+03,  5.60486059e+02],\n",
       "       [-2.03919645e+03,  1.50527209e+03],\n",
       "       [-1.84323599e+02,  4.99629514e+02],\n",
       "       [ 1.21571218e+03, -2.23594069e+03],\n",
       "       [ 9.31110265e+02, -2.43024707e+02],\n",
       "       [ 9.06988111e+02, -1.52397475e+02],\n",
       "       [-1.35807604e+03,  2.63932063e+02],\n",
       "       [-5.72845748e+02,  5.10884394e+02],\n",
       "       [ 1.18435227e+03, -1.86425970e+03],\n",
       "       [ 8.97115779e+01, -1.39840220e+03],\n",
       "       [-4.64769665e+02, -2.16549484e+03],\n",
       "       [-1.29031658e+03,  9.36263161e+02],\n",
       "       [-2.05554281e+03,  5.86392767e+02],\n",
       "       [ 1.00392850e+03,  1.24866839e+02],\n",
       "       [ 7.16657876e+02, -6.52278265e+02],\n",
       "       [-1.64306856e+03,  1.42073138e+02],\n",
       "       [-3.49964870e+02,  1.61999352e+03],\n",
       "       [ 2.53566585e+03, -1.00937651e+03],\n",
       "       [ 1.30358781e+02, -1.96181887e+02],\n",
       "       [-1.36834281e+03, -1.69803228e+03],\n",
       "       [ 6.30097914e+02, -7.54003985e+02],\n",
       "       [ 5.23617966e+01, -1.85548282e+03],\n",
       "       [-1.85478961e+03, -1.79325499e+03],\n",
       "       [ 1.02315702e+03, -1.14711413e+03],\n",
       "       [-4.89101961e+02,  1.32679537e+03],\n",
       "       [-2.02687563e+03,  3.30371063e+02],\n",
       "       [-1.94020654e+03, -4.07603462e+02],\n",
       "       [ 7.16465379e+02, -3.24911132e+03],\n",
       "       [ 1.44851450e+02, -1.82999007e+03],\n",
       "       [-2.70056632e+03,  3.11965284e+02],\n",
       "       [ 9.39979363e+02,  9.72394210e+02],\n",
       "       [ 2.74466125e+03, -5.21250560e+01],\n",
       "       [-4.72030574e+03,  5.06796420e+02],\n",
       "       [-1.72700311e+03, -7.60268487e+01],\n",
       "       [ 1.71503857e+03,  9.43861104e+02],\n",
       "       [ 1.32964410e+03,  1.87293553e+03],\n",
       "       [ 2.33331825e+03, -2.28445051e+02],\n",
       "       [ 2.82578421e+02,  7.31279300e+02],\n",
       "       [ 2.89028681e+03,  5.31521632e+02],\n",
       "       [ 1.65382488e+03,  1.40678750e+03],\n",
       "       [-1.84851379e+01,  2.77538111e+02],\n",
       "       [-3.19873966e+02,  3.36595170e+02],\n",
       "       [ 3.48552335e+03,  5.77881839e+02],\n",
       "       [ 1.68621137e+03,  6.82775798e+02],\n",
       "       [-1.83694927e+03,  7.54580251e+02],\n",
       "       [ 1.17823758e+03,  4.62854976e+02],\n",
       "       [-1.49550984e+03,  5.47300680e+02],\n",
       "       [ 1.82781372e+03,  4.66596642e+02],\n",
       "       [-2.30394800e+03,  5.86835544e+01],\n",
       "       [ 2.72363983e+03,  1.88333669e+02],\n",
       "       [-6.68324130e+02,  5.62406982e+02],\n",
       "       [ 2.71437197e+03, -3.20386160e+02],\n",
       "       [ 2.14155241e+03, -8.55709083e+02],\n",
       "       [ 1.79848420e+03, -1.71217434e+03],\n",
       "       [-3.77226308e+03,  4.31683704e+02],\n",
       "       [ 4.03238693e+02, -1.17407209e+03],\n",
       "       [ 1.63302388e+03,  8.41266629e+02],\n",
       "       [ 2.03204499e+03, -1.23637292e+03],\n",
       "       [-1.09307008e+03, -1.32095021e+00],\n",
       "       [ 1.00843042e+03,  3.08537125e+02],\n",
       "       [ 1.41202591e+02,  6.47275868e+02],\n",
       "       [-1.01426306e+03,  1.23498324e+03],\n",
       "       [ 1.15367059e+03,  1.65501272e+03],\n",
       "       [-4.79933147e+03,  1.05468109e+03],\n",
       "       [ 2.42494103e+03, -6.20418929e+01],\n",
       "       [ 3.11413709e+02, -4.09498900e+02],\n",
       "       [-3.40614530e+03, -5.74857358e+01],\n",
       "       [ 2.35333612e+03,  4.26513566e+02],\n",
       "       [ 1.15774179e+03, -1.03159013e+03],\n",
       "       [ 7.69275892e+02,  6.23867963e+02],\n",
       "       [ 3.17685084e+02,  9.77479466e+02],\n",
       "       [ 2.18386372e+03,  1.56463916e+03],\n",
       "       [ 3.28560148e+03, -9.34507861e+02],\n",
       "       [ 1.34095614e+03, -9.47655992e+02],\n",
       "       [ 3.92303914e+03, -1.46177503e+03],\n",
       "       [-1.11175724e+03,  4.48334840e+02],\n",
       "       [-1.16840152e+03, -1.45382888e+02],\n",
       "       [-2.20826693e+03,  9.84604741e+02],\n",
       "       [ 3.48997659e+03, -4.32017566e+02],\n",
       "       [-3.77835386e+01,  2.26861472e+02],\n",
       "       [ 1.67700379e+03,  1.12681594e+03],\n",
       "       [ 6.53792947e+02, -5.46778893e+02],\n",
       "       [ 2.55686778e+03,  9.13145320e+02],\n",
       "       [ 2.24005181e+03,  8.26415689e+02],\n",
       "       [-8.49328353e+02,  8.48787835e+02],\n",
       "       [ 1.67401937e+03,  7.47454153e+02],\n",
       "       [ 3.06668167e+03,  1.92490492e+03],\n",
       "       [ 9.28576799e+02, -5.33794052e+02],\n",
       "       [-1.60942132e+03,  1.32932292e+03],\n",
       "       [ 1.03282559e+03, -1.64358455e+03],\n",
       "       [ 5.53789612e+01,  3.84630990e+01],\n",
       "       [ 8.26533801e+02,  4.38015677e+02],\n",
       "       [ 2.29843605e+03,  4.17391166e+02],\n",
       "       [ 2.41181371e+03, -5.97975171e+02],\n",
       "       [-1.58213559e+03,  1.02968931e+02],\n",
       "       [ 3.81475665e+02,  8.53560039e+02],\n",
       "       [-3.35844952e+03,  5.00508942e+02],\n",
       "       [ 1.60678432e+02,  1.54986468e+02],\n",
       "       [-7.43741312e+02,  2.11241534e+02],\n",
       "       [-1.78409594e+03, -1.69640543e+02],\n",
       "       [-7.32230769e+02,  1.77015255e+02],\n",
       "       [ 1.90753228e+03, -6.19483086e+02],\n",
       "       [ 4.79618925e+02,  5.30047449e+02],\n",
       "       [-8.70010811e+01, -8.48360338e+01],\n",
       "       [-6.76456345e+02, -1.10062957e+02],\n",
       "       [ 1.10780529e+03, -8.29107319e+02],\n",
       "       [ 1.82006826e+03, -1.28514829e+03],\n",
       "       [ 1.74940241e+03, -4.76834192e+02],\n",
       "       [-1.00222328e+03, -1.57031969e+02],\n",
       "       [ 3.21154519e+02,  4.90624492e+02]])"
      ]
     },
     "execution_count": 46,
     "metadata": {},
     "output_type": "execute_result"
    }
   ],
   "source": [
    "# Your code here:\n",
    "dotted = np.dot(dogsandcats,pca.factors)\n",
    "dotted\n"
   ]
  },
  {
   "cell_type": "markdown",
   "metadata": {},
   "source": [
    "# Challenge 3 - Plotting the Data\n",
    "\n",
    "Now that we have reduced our cats and dogs arrays, we can easily plot the data in a way that the human eye can understand. We can look at this plot to see whether there are differences between the cat and dog images. \n",
    "\n",
    "In the cell below, turn the two dimensional projection into a pandas dataframe and name the columns `pc1`, and `pc2` respectively."
   ]
  },
  {
   "cell_type": "code",
   "execution_count": 47,
   "metadata": {},
   "outputs": [
    {
     "data": {
      "text/html": [
       "<div>\n",
       "<style scoped>\n",
       "    .dataframe tbody tr th:only-of-type {\n",
       "        vertical-align: middle;\n",
       "    }\n",
       "\n",
       "    .dataframe tbody tr th {\n",
       "        vertical-align: top;\n",
       "    }\n",
       "\n",
       "    .dataframe thead th {\n",
       "        text-align: right;\n",
       "    }\n",
       "</style>\n",
       "<table border=\"1\" class=\"dataframe\">\n",
       "  <thead>\n",
       "    <tr style=\"text-align: right;\">\n",
       "      <th></th>\n",
       "      <th>pc1</th>\n",
       "      <th>pc2</th>\n",
       "    </tr>\n",
       "  </thead>\n",
       "  <tbody>\n",
       "    <tr>\n",
       "      <th>0</th>\n",
       "      <td>-2407.868001</td>\n",
       "      <td>893.333874</td>\n",
       "    </tr>\n",
       "    <tr>\n",
       "      <th>1</th>\n",
       "      <td>-2346.659053</td>\n",
       "      <td>-1321.605532</td>\n",
       "    </tr>\n",
       "    <tr>\n",
       "      <th>2</th>\n",
       "      <td>507.254368</td>\n",
       "      <td>-681.392256</td>\n",
       "    </tr>\n",
       "    <tr>\n",
       "      <th>3</th>\n",
       "      <td>-264.165539</td>\n",
       "      <td>-1455.680197</td>\n",
       "    </tr>\n",
       "    <tr>\n",
       "      <th>4</th>\n",
       "      <td>-1608.970759</td>\n",
       "      <td>273.880881</td>\n",
       "    </tr>\n",
       "    <tr>\n",
       "      <th>...</th>\n",
       "      <td>...</td>\n",
       "      <td>...</td>\n",
       "    </tr>\n",
       "    <tr>\n",
       "      <th>155</th>\n",
       "      <td>1107.805287</td>\n",
       "      <td>-829.107319</td>\n",
       "    </tr>\n",
       "    <tr>\n",
       "      <th>156</th>\n",
       "      <td>1820.068257</td>\n",
       "      <td>-1285.148293</td>\n",
       "    </tr>\n",
       "    <tr>\n",
       "      <th>157</th>\n",
       "      <td>1749.402414</td>\n",
       "      <td>-476.834192</td>\n",
       "    </tr>\n",
       "    <tr>\n",
       "      <th>158</th>\n",
       "      <td>-1002.223283</td>\n",
       "      <td>-157.031969</td>\n",
       "    </tr>\n",
       "    <tr>\n",
       "      <th>159</th>\n",
       "      <td>321.154519</td>\n",
       "      <td>490.624492</td>\n",
       "    </tr>\n",
       "  </tbody>\n",
       "</table>\n",
       "<p>160 rows × 2 columns</p>\n",
       "</div>"
      ],
      "text/plain": [
       "             pc1          pc2\n",
       "0   -2407.868001   893.333874\n",
       "1   -2346.659053 -1321.605532\n",
       "2     507.254368  -681.392256\n",
       "3    -264.165539 -1455.680197\n",
       "4   -1608.970759   273.880881\n",
       "..           ...          ...\n",
       "155  1107.805287  -829.107319\n",
       "156  1820.068257 -1285.148293\n",
       "157  1749.402414  -476.834192\n",
       "158 -1002.223283  -157.031969\n",
       "159   321.154519   490.624492\n",
       "\n",
       "[160 rows x 2 columns]"
      ]
     },
     "execution_count": 47,
     "metadata": {},
     "output_type": "execute_result"
    }
   ],
   "source": [
    "# Your code here:\n",
    "pcs = pd.DataFrame(data=dotted, columns=['pc1', 'pc2'])\n",
    "pcs"
   ]
  },
  {
   "cell_type": "markdown",
   "metadata": {},
   "source": [
    "Create a labels list. This list will be of size 160. The first 80 elements in the list will be the word `blue`, and the last 80 elements will be `red`. This will ensure that all dog observations will be colored in blue and all cats will be colored in red. Name this list `colors`."
   ]
  },
  {
   "cell_type": "code",
   "execution_count": 48,
   "metadata": {},
   "outputs": [],
   "source": [
    "# Your code here:\n",
    "colors = []\n",
    "for i in range(80):\n",
    "    colors.append('blue')\n",
    "for i in range(80):\n",
    "    colors.append('red')\n"
   ]
  },
  {
   "cell_type": "markdown",
   "metadata": {},
   "source": [
    "Create a scatter plot of `pc1` and `pc2` below. Use the `colors` list above to color the observations by setting `c=colors`."
   ]
  },
  {
   "cell_type": "code",
   "execution_count": 49,
   "metadata": {},
   "outputs": [
    {
     "data": {
      "text/plain": [
       "<matplotlib.collections.PathCollection at 0x217f6856a60>"
      ]
     },
     "execution_count": 49,
     "metadata": {},
     "output_type": "execute_result"
    },
    {
     "data": {
      "image/png": "[encoded data removed]",
      "text/plain": [
       "<Figure size 432x288 with 1 Axes>"
      ]
     },
     "metadata": {
      "needs_background": "light"
     },
     "output_type": "display_data"
    }
   ],
   "source": [
    "# Your code here:\n",
    "\n",
    "plt.scatter(pcs['pc1'], pcs['pc2'], c=colors)"
   ]
  },
  {
   "cell_type": "markdown",
   "metadata": {},
   "source": [
    "Do you see a clear separation between cats and dogs? Write your answer below."
   ]
  },
  {
   "cell_type": "markdown",
   "metadata": {},
   "source": [
    "They are not clearly separated because they must have some common caracteristics"
   ]
  }
 ],
 "metadata": {
  "kernelspec": {
   "display_name": "Python 3",
   "language": "python",
   "name": "python3"
  },
  "language_info": {
   "codemirror_mode": {
    "name": "ipython",
    "version": 3
   },
   "file_extension": ".py",
   "mimetype": "text/x-python",
   "name": "python",
   "nbconvert_exporter": "python",
   "pygments_lexer": "ipython3",
   "version": "3.9.12"
  }
 },
 "nbformat": 4,
 "nbformat_minor": 2
}
